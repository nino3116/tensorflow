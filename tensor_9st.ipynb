{
 "cells": [
  {
   "cell_type": "code",
   "execution_count": 1,
   "metadata": {},
   "outputs": [
    {
     "name": "stdout",
     "output_type": "stream",
     "text": [
      "Collecting statsmodels\n",
      "  Downloading statsmodels-0.14.4-cp312-cp312-win_amd64.whl.metadata (9.5 kB)\n",
      "Requirement already satisfied: numpy<3,>=1.22.3 in .\\venv\\lib\\site-packages (from statsmodels) (2.0.2)\n",
      "Requirement already satisfied: scipy!=1.9.2,>=1.8 in .\\venv\\lib\\site-packages (from statsmodels) (1.15.1)\n",
      "Requirement already satisfied: pandas!=2.1.0,>=1.4 in .\\venv\\lib\\site-packages (from statsmodels) (2.2.3)\n",
      "Collecting patsy>=0.5.6 (from statsmodels)\n",
      "  Downloading patsy-1.0.1-py2.py3-none-any.whl.metadata (3.3 kB)\n",
      "Requirement already satisfied: packaging>=21.3 in .\\venv\\lib\\site-packages (from statsmodels) (24.2)\n",
      "Requirement already satisfied: python-dateutil>=2.8.2 in .\\venv\\lib\\site-packages (from pandas!=2.1.0,>=1.4->statsmodels) (2.9.0.post0)\n",
      "Requirement already satisfied: pytz>=2020.1 in .\\venv\\lib\\site-packages (from pandas!=2.1.0,>=1.4->statsmodels) (2024.2)\n",
      "Requirement already satisfied: tzdata>=2022.7 in .\\venv\\lib\\site-packages (from pandas!=2.1.0,>=1.4->statsmodels) (2024.2)\n",
      "Requirement already satisfied: six>=1.5 in .\\venv\\lib\\site-packages (from python-dateutil>=2.8.2->pandas!=2.1.0,>=1.4->statsmodels) (1.17.0)\n",
      "Downloading statsmodels-0.14.4-cp312-cp312-win_amd64.whl (9.8 MB)\n",
      "   ---------------------------------------- 0.0/9.8 MB ? eta -:--:--\n",
      "   ---------------------------------- ----- 8.4/9.8 MB 43.2 MB/s eta 0:00:01\n",
      "   ---------------------------------------- 9.8/9.8 MB 40.7 MB/s eta 0:00:00\n",
      "Downloading patsy-1.0.1-py2.py3-none-any.whl (232 kB)\n",
      "Installing collected packages: patsy, statsmodels\n",
      "Successfully installed patsy-1.0.1 statsmodels-0.14.4\n",
      "Note: you may need to restart the kernel to use updated packages.\n"
     ]
    }
   ],
   "source": [
    "# statsmodels 설치\n",
    "# 검정 및 추정, 회귀 분석, 시계열 분석 기능을 제공하는 통계분석 파이썬 패키지\n",
    "\n",
    "%pip install statsmodels"
   ]
  },
  {
   "cell_type": "code",
   "execution_count": null,
   "metadata": {},
   "outputs": [],
   "source": [
    "# data에 넣은 seles.csv 파일을 이용한 예제\n",
    "# ARIMA()의 값을 ARIMA(5, 1, 0)\n",
    "# 5는 회귀 차수, 차분차수는 1, 이동 평균차수는 0으로\n",
    "# ARIMA가 동작하는 것을 확인"
   ]
  },
  {
   "cell_type": "code",
   "execution_count": 17,
   "metadata": {},
   "outputs": [
    {
     "name": "stdout",
     "output_type": "stream",
     "text": [
      "                               SARIMAX Results                                \n",
      "==============================================================================\n",
      "Dep. Variable:                  Sales   No. Observations:                   36\n",
      "Model:                 ARIMA(5, 1, 0)   Log Likelihood                -199.651\n",
      "Date:                Mon, 27 Jan 2025   AIC                            411.302\n",
      "Time:                        11:40:54   BIC                            420.634\n",
      "Sample:                    01-01-1991   HQIC                           414.523\n",
      "                         - 12-01-1993                                         \n",
      "Covariance Type:                  opg                                         \n",
      "==============================================================================\n",
      "                 coef    std err          z      P>|z|      [0.025      0.975]\n",
      "------------------------------------------------------------------------------\n",
      "ar.L1         -0.8788      0.227     -3.876      0.000      -1.323      -0.434\n",
      "ar.L2         -0.2787      0.232     -1.203      0.229      -0.733       0.176\n",
      "ar.L3         -0.0076      0.270     -0.028      0.978      -0.536       0.521\n",
      "ar.L4          0.3483      0.294      1.185      0.236      -0.228       0.924\n",
      "ar.L5          0.3772      0.207      1.826      0.068      -0.028       0.782\n",
      "sigma2      5049.2115   1540.731      3.277      0.001    2029.435    8068.988\n",
      "===================================================================================\n",
      "Ljung-Box (L1) (Q):                   0.39   Jarque-Bera (JB):                 1.60\n",
      "Prob(Q):                              0.53   Prob(JB):                         0.45\n",
      "Heteroskedasticity (H):               1.43   Skew:                             0.38\n",
      "Prob(H) (two-sided):                  0.54   Kurtosis:                         2.28\n",
      "===================================================================================\n",
      "\n",
      "Warnings:\n",
      "[1] Covariance matrix calculated using the outer product of gradients (complex-step).\n"
     ]
    },
    {
     "name": "stderr",
     "output_type": "stream",
     "text": [
      "C:\\Users\\Admin\\AppData\\Local\\Temp\\ipykernel_8532\\1640849095.py:11: FutureWarning: The argument 'date_parser' is deprecated and will be removed in a future version. Please use 'date_format' instead, or read your data in as 'object' dtype and then call 'to_datetime'.\n",
      "  series = read_csv('./data/sales.csv',\n",
      "d:\\tensorflow\\venv\\Lib\\site-packages\\statsmodels\\tsa\\base\\tsa_model.py:473: ValueWarning: No frequency information was provided, so inferred frequency MS will be used.\n",
      "  self._init_dates(dates, freq)\n"
     ]
    },
    {
     "data": {
      "image/png": "[encoded data removed]",
      "text/plain": [
       "<Figure size 640x480 with 1 Axes>"
      ]
     },
     "metadata": {},
     "output_type": "display_data"
    },
    {
     "data": {
      "image/png": "[encoded data removed]",
      "text/plain": [
       "<Figure size 640x480 with 1 Axes>"
      ]
     },
     "metadata": {},
     "output_type": "display_data"
    },
    {
     "name": "stdout",
     "output_type": "stream",
     "text": [
      "                0\n",
      "count   36.000000\n",
      "mean    22.459086\n",
      "std     82.505331\n",
      "min   -118.213281\n",
      "25%    -33.308343\n",
      "50%      1.361178\n",
      "75%     76.704967\n",
      "max    266.000000\n"
     ]
    }
   ],
   "source": [
    "from datetime import datetime   # 날짜에 대한 작업을 위해서 필요한 모듈\n",
    "from pandas import read_csv     # csv 파일을 읽어서 DataFrame으로 반환하는 함수\n",
    "from pandas import DataFrame    \n",
    "import statsmodels.api as sm    # 기존 코드의 ARIMA 기능을 구현한 함수가 Deprecated됨, \n",
    "                                # statsmodels.api를 통해서 ARIMA() 함수를 불러다 사용\n",
    "from matplotlib import pyplot\n",
    "# csv내에 있는 날짜 값을 변환하는 함수 구현.\n",
    "def parser(x):\n",
    "    return datetime.strptime('199'+x, '%Y-%m') # csv내에 있는 날짜를 변경(1991-01 : 년도와 월로 변경)\n",
    "# print(parser('1-02'))   # parser를 사용하는 문자열을 datetime 시간 값으로 변경.(1991-02-01 00:00:00)\n",
    "series = read_csv('./data/sales.csv', \n",
    "                  header=0,                 # 헤더값 위치(행)\n",
    "                  parse_dates=['Month'],    # parse_datas 는 날짜로\n",
    "                  index_col=['Month'],      # index_col은 해당 컬럼을 인덱스 값으로 사용.\n",
    "                  date_parser=parser)       # 함수를 이용한 날짜 형식 변환\n",
    "model = sm.tsa.arima.ARIMA(series, order=(5, 1, 0))\n",
    "model_fit = model.fit()\n",
    "print(model_fit.summary())\n",
    "residuals = DataFrame(model_fit.resid)      # 모델에 대한 오차 정보(model_fit.resud)를 \n",
    "                                            # DataFrame으로 residuals변수에 저장\n",
    "residuals.plot()                            # plot() 선 그래프\n",
    "pyplot.show()\n",
    "residuals.plot(kind='kde')\n",
    "pyplot.show()\n",
    "print(residuals.describe())"
   ]
  },
  {
   "cell_type": "code",
   "execution_count": 35,
   "metadata": {},
   "outputs": [
    {
     "name": "stderr",
     "output_type": "stream",
     "text": [
      "C:\\Users\\Admin\\AppData\\Local\\Temp\\ipykernel_8532\\2623085729.py:15: FutureWarning: The argument 'date_parser' is deprecated and will be removed in a future version. Please use 'date_format' instead, or read your data in as 'object' dtype and then call 'to_datetime'.\n",
      "  series = read_csv('./data/sales.csv',\n",
      "C:\\Users\\Admin\\AppData\\Local\\Temp\\ipykernel_8532\\2623085729.py:39: DeprecationWarning: Conversion of an array with ndim > 0 to a scalar is deprecated, and will error in future. Ensure you extract a single element from your array before performing this operation. (Deprecated NumPy 1.25.)\n",
      "  print('predicted=%f, expected=%f' % (yhat, obs))\n"
     ]
    },
    {
     "name": "stdout",
     "output_type": "stream",
     "text": [
      "predicted=352.855343, expected=346.300000\n",
      "predicted=277.398036, expected=329.700000\n",
      "predicted=368.753734, expected=445.400000\n",
      "predicted=331.773635, expected=325.900000\n",
      "predicted=372.070408, expected=449.300000\n",
      "predicted=360.020872, expected=411.300000\n",
      "predicted=454.526230, expected=417.400000\n",
      "predicted=388.690695, expected=545.500000\n",
      "predicted=437.632447, expected=477.600000\n",
      "predicted=516.437624, expected=687.000000\n",
      "predicted=520.916190, expected=435.300000\n",
      "predicted=675.594647, expected=587.300000\n",
      "predicted=505.201016, expected=676.900000\n",
      "Test MSE: 9118.818\n"
     ]
    },
    {
     "data": {
      "image/png": "[encoded data removed]",
      "text/plain": [
       "<Figure size 640x480 with 1 Axes>"
      ]
     },
     "metadata": {},
     "output_type": "display_data"
    }
   ],
   "source": [
    "# 예측\n",
    "import numpy as np\n",
    "from datetime import datetime   # 날짜에 대한 작업을 위해서 필요한 모듈\n",
    "from pandas import read_csv     # csv 파일을 읽어서 DataFrame으로 반환하는 함수\n",
    "from pandas import DataFrame    \n",
    "import statsmodels.api as sm    # 기존 코드의 ARIMA 기능을 구현한 함수가 Deprecated됨, \n",
    "                                # statsmodels.api를 통해서 ARIMA() 함수를 불러다 사용\n",
    "from matplotlib import pyplot\n",
    "from sklearn.metrics import mean_squared_error\n",
    "\n",
    "# csv내에 있는 날짜 값을 변환하는 함수 구현.\n",
    "def parser(x):\n",
    "    return datetime.strptime('199'+x, '%Y-%m') # csv내에 있는 날짜를 변경(1991-01 : 년도와 월로 변경)\n",
    "# print(parser('1-02'))   # parser를 사용하는 문자열을 datetime 시간 값으로 변경.(1991-02-01 00:00:00)\n",
    "series = read_csv('./data/sales.csv', \n",
    "                  header=0,                 # 헤더값 위치(행)\n",
    "                  parse_dates=['Month'],    # parse_datas 는 날짜로\n",
    "                  index_col=['Month'],      # index_col은 해당 컬럼을 인덱스 값으로 사용.\n",
    "                  date_parser=parser        # 함수를 이용한 날짜 형식 변환\n",
    ")\n",
    "# 훈련 및 검증 데이터 생성 (전처리)\n",
    "X = series.values       # Sales 컬럼에 있는 값들을 출력(array)\n",
    "                        # 만약에 컬럼이 하나가 아니면, 다른 컬럼 값도 같이 출력됨\n",
    "# 결측치 값 처리\n",
    "X = np.nan_to_num(X)    # NaN 처리 함수, NaN을 0으로 변경\n",
    "size = int(len(X) * 0.66)\n",
    "train, test = X[0:size], X[size:len(X)]     # train과 test 데이터셋을 분리\n",
    "history = [x for x in train]                # 이전값이니까 history라는 변수명을 사용\n",
    "# history\n",
    "predictions = list()        # 예측값\n",
    "for i in range(len(test)):                  # test 데이터 셋의 길이 만큼 반복\n",
    "    model = sm.tsa.arima.ARIMA(history, order=(5,1,0))  # ARIMA() 호출\n",
    "    model_fit = model.fit()\n",
    "    output = model_fit.forecast()           # 예측\n",
    "    yhat = output[0]\n",
    "    predictions.append(yhat)                # 예측 결과를 predictions에 저장\n",
    "    obs = test[i]\n",
    "    history.append(obs)\n",
    "    print('predicted=%f, expected=%f' % (yhat, obs))\n",
    "# 오차율 (MSE - 평균 제곱 오차) - 손실함수로 평균제곱 오차를 사용\n",
    "error = mean_squared_error(test, predictions)\n",
    "print(f'Test MSE: {error:.3f}')\n",
    "pyplot.plot(test)\n",
    "pyplot.plot(predictions, color='red')\n",
    "pyplot.show()"
   ]
  },
  {
   "cell_type": "code",
   "execution_count": 1,
   "metadata": {},
   "outputs": [],
   "source": [
    "# IMDB 데이터셋\n",
    "# 영화 관련 리뷰를 가지고 있는 데이터 셋\n",
    "# 라이브러리\n",
    "import os\n",
    "os.environ['TF_CPP_MIN_LOG_LEVEL'] = '2'\n",
    "import tensorflow as tf\n",
    "import numpy as np\n",
    "from tensorflow import keras\n",
    "from tensorflow.keras import layers\n",
    "from tensorflow.keras.models import Sequential\n",
    "from tensorflow.keras.layers import Dense, Input\n",
    "from tensorflow.keras.optimizers import Adam"
   ]
  },
  {
   "cell_type": "code",
   "execution_count": 2,
   "metadata": {},
   "outputs": [],
   "source": [
    "# 필요한 초기화\n",
    "tf.random.set_seed(22) # 랜덤 시드값 설정\n",
    "np.random.seed(22)\n",
    "\n",
    "assert tf.__version__.startswith('2.')      # 버전 검증(tensorflow 2버전인지 확인)\n",
    "\n",
    "batch_size = 128\n",
    "total_words = 10000\n",
    "max_review_len = 80\n",
    "embedding_len = 100\n"
   ]
  },
  {
   "cell_type": "code",
   "execution_count": 3,
   "metadata": {},
   "outputs": [
    {
     "name": "stdout",
     "output_type": "stream",
     "text": [
      "x_train.shape :  (25000, 80) tf.Tensor(1, shape=(), dtype=int64) tf.Tensor(0, shape=(), dtype=int64)\n",
      "x_test.shape :  (25000, 80)\n",
      "(128, 80)\n"
     ]
    }
   ],
   "source": [
    "# 모형 적용을 위한 데이터셋 준비\n",
    "(x_train, y_train), (x_test, y_test) = tf.keras.datasets.imdb.load_data(num_words=total_words)\n",
    "\n",
    "# 전처리 작업 - 최대 길이 값보다 작은 경우, 값의 길이를 같게 만들기 위해서 패딩값(보통 0)으로 채우기\n",
    "# pad_sequences() - 모델에 넣을 데이터를 만들기 위해서 동일한 크기의 데이터로 생성\n",
    "x_train = tf.keras.preprocessing.sequence.pad_sequences(x_train, maxlen=max_review_len)\n",
    "x_test = tf.keras.preprocessing.sequence.pad_sequences(x_test, maxlen=max_review_len)\n",
    "\n",
    "# tf.data.Datset 만들기\n",
    "# 훈련 데이터\n",
    "train_data = tf.data.Dataset.from_tensor_slices((x_train, y_train))\n",
    "train_data = train_data.shuffle(10000).batch(batch_size, drop_remainder=True)   # drop_remainder 마지막 배치 크기를 무시하고 지정한 배치 크기를 사용\n",
    "# 검증 데이터\n",
    "test_data = tf.data.Dataset.from_tensor_slices((x_test, y_test))\n",
    "test_data = test_data.batch(batch_size, drop_remainder=True)\n",
    "\n",
    "print('x_train.shape : ', x_train.shape, tf.reduce_max(y_train), tf.reduce_min(y_train))\n",
    "print('x_test.shape : ', x_test.shape)\n",
    "\n",
    "sample = next(iter(test_data))\n",
    "print(sample[0].shape)"
   ]
  },
  {
   "cell_type": "code",
   "execution_count": 50,
   "metadata": {},
   "outputs": [
    {
     "data": {
      "text/plain": [
       "array([  15,  256,    4,    2,    7, 3766,    5,  723,   36,   71,   43,\n",
       "        530,  476,   26,  400,  317,   46,    7,    4,    2, 1029,   13,\n",
       "        104,   88,    4,  381,   15,  297,   98,   32, 2071,   56,   26,\n",
       "        141,    6,  194, 7486,   18,    4,  226,   22,   21,  134,  476,\n",
       "         26,  480,    5,  144,   30, 5535,   18,   51,   36,   28,  224,\n",
       "         92,   25,  104,    4,  226,   65,   16,   38, 1334,   88,   12,\n",
       "         16,  283,    5,   16, 4472,  113,  103,   32,   15,   16, 5345,\n",
       "         19,  178,   32], dtype=int32)"
      ]
     },
     "execution_count": 50,
     "metadata": {},
     "output_type": "execute_result"
    }
   ],
   "source": [
    "x_train[0]"
   ]
  },
  {
   "cell_type": "code",
   "execution_count": 45,
   "metadata": {},
   "outputs": [
    {
     "data": {
      "text/plain": [
       "25000"
      ]
     },
     "execution_count": 45,
     "metadata": {},
     "output_type": "execute_result"
    }
   ],
   "source": [
    "len(x_train) \n",
    "len(x_test)\n",
    "len(y_train)\n",
    "len(y_test)     # 전부 25000 개씩"
   ]
  },
  {
   "cell_type": "code",
   "execution_count": 4,
   "metadata": {},
   "outputs": [],
   "source": [
    "# 책 예제와 다른부분을 체크해서 잘 보기!\n",
    "\n",
    "class RNN_Build(tf.keras.Model): \n",
    "    def __init__(self, units):\n",
    "        super(RNN_Build, self).__init__()\n",
    "\n",
    "        # self.state0 = [tf.zeros([batch_size, units])] \n",
    "        # self.state1 = [tf.zeros([batch_size, units])]\n",
    "        self.embedding = tf.keras.layers.Embedding(total_words, embedding_len,\n",
    "                                                   input_length=max_review_len)\n",
    "        # RNNCell0 -> RNN0\n",
    "        self.RNN0 = tf.keras.layers.RNN(\n",
    "            tf.keras.layers.SimpleRNNCell(units, dropout=0.2),\n",
    "            return_sequences=True\n",
    "        ) \n",
    "        self.RNN1 = tf.keras.layers.RNN(\n",
    "            tf.keras.layers.SimpleRNNCell(units, dropout=0.2)\n",
    "        )\n",
    "        self.outlayer = tf.keras.layers.Dense(1)\n",
    "\n",
    "    def call(self, inputs, training=None):\n",
    "        x = inputs\n",
    "        x = self.embedding(x)\n",
    "        # state0 = self.state0\n",
    "        # state1 = self.state1\n",
    "        # for word in tf.unstack(x, axis=1):\n",
    "        #     out0, state0 = self.RNNCell0(word, state0, training=training) \n",
    "        #     out1, state1 = self.RNNCell1(out0, state1, training=training) \n",
    "        x = self.RNN0(x, training=training)\n",
    "        x = self.RNN1(x, training=training)\n",
    "        x = self.outlayer(x)\n",
    "        prob = tf.sigmoid(x)\n",
    "        return prob "
   ]
  },
  {
   "cell_type": "code",
   "execution_count": 5,
   "metadata": {},
   "outputs": [
    {
     "name": "stdout",
     "output_type": "stream",
     "text": [
      "Epoch 1/4\n"
     ]
    },
    {
     "name": "stderr",
     "output_type": "stream",
     "text": [
      "d:\\tensorflow\\venv\\Lib\\site-packages\\keras\\src\\layers\\core\\embedding.py:90: UserWarning: Argument `input_length` is deprecated. Just remove it.\n",
      "  warnings.warn(\n"
     ]
    },
    {
     "name": "stdout",
     "output_type": "stream",
     "text": [
      "\u001b[1m195/195\u001b[0m \u001b[32m━━━━━━━━━━━━━━━━━━━━\u001b[0m\u001b[37m\u001b[0m \u001b[1m8s\u001b[0m 27ms/step - accuracy: 0.5261 - loss: 0.6896\n",
      "Epoch 2/4\n",
      "\u001b[1m195/195\u001b[0m \u001b[32m━━━━━━━━━━━━━━━━━━━━\u001b[0m\u001b[37m\u001b[0m \u001b[1m7s\u001b[0m 38ms/step - accuracy: 0.8425 - loss: 0.3674 - val_accuracy: 0.8256 - val_loss: 0.3966\n",
      "Epoch 3/4\n",
      "\u001b[1m195/195\u001b[0m \u001b[32m━━━━━━━━━━━━━━━━━━━━\u001b[0m\u001b[37m\u001b[0m \u001b[1m5s\u001b[0m 27ms/step - accuracy: 0.9221 - loss: 0.1975\n",
      "Epoch 4/4\n",
      "\u001b[1m195/195\u001b[0m \u001b[32m━━━━━━━━━━━━━━━━━━━━\u001b[0m\u001b[37m\u001b[0m \u001b[1m7s\u001b[0m 37ms/step - accuracy: 0.9694 - loss: 0.0859 - val_accuracy: 0.7980 - val_loss: 0.7158\n"
     ]
    },
    {
     "data": {
      "text/plain": [
       "<keras.src.callbacks.history.History at 0x1df7e4804d0>"
      ]
     },
     "execution_count": 5,
     "metadata": {},
     "output_type": "execute_result"
    }
   ],
   "source": [
    "import time\n",
    "units = 64\n",
    "epochs = 4\n",
    "t0 = time.time() # 구동 시간을 비교하기 위해서...\n",
    "\n",
    "model = RNN_Build(units) # 객체 생성\n",
    "model.compile(optimizer=tf.keras.optimizers.Adam(0.001),\n",
    "              loss=tf.losses.BinaryCrossentropy(),\n",
    "              metrics=['accuracy'])\n",
    "\n",
    "model.fit(train_data, epochs=epochs, validation_data=test_data, validation_freq=2)"
   ]
  },
  {
   "cell_type": "code",
   "execution_count": 6,
   "metadata": {},
   "outputs": [
    {
     "name": "stdout",
     "output_type": "stream",
     "text": [
      "훈련 데이터셋 평가...\n",
      "loss=0.0550, accuracy: 97.8846%\n",
      "테스트 데이터셋 평가...\n",
      "loss=0.7158, accuracy: 79.7957%\n",
      "시간: 43.300466775894165\n"
     ]
    }
   ],
   "source": [
    "print(\"훈련 데이터셋 평가...\")\n",
    "(loss, accuracy) = model.evaluate(train_data, verbose=0)\n",
    "print(\"loss={:.4f}, accuracy: {:.4f}%\".format(loss,accuracy * 100))\n",
    "print(\"테스트 데이터셋 평가...\")\n",
    "(loss, accuracy) = model.evaluate(test_data, verbose=0)\n",
    "print(\"loss={:.4f}, accuracy: {:.4f}%\".format(loss,accuracy * 100))\n",
    "t1 = time.time()\n",
    "print('시간:', t1-t0)"
   ]
  },
  {
   "cell_type": "code",
   "execution_count": 9,
   "metadata": {},
   "outputs": [],
   "source": [
    "# SimpleRNN Layer 구현\n",
    "\n",
    "# 모델 정의\n",
    "class RNN_Build(tf.keras.Model):\n",
    "    def __init__(self, units):\n",
    "        super(RNN_Build, self).__init__()\n",
    "        # Embedding 계층\n",
    "        self.embedding = tf.keras.layers.Embedding(total_words,\n",
    "                                                   embedding_len)\n",
    "        # RNN 계층구현\n",
    "        self.rnn = tf.keras.Sequential([\n",
    "            tf.keras.layers.SimpleRNN(units, dropout=0.5, return_sequences=True),\n",
    "            tf.keras.layers.SimpleRNN(units, dropout=0.5)\n",
    "        ])\n",
    "        # 출력 계층\n",
    "        self.outlayer = tf.keras.layers.Dense(1)\n",
    "    \n",
    "    # 객체 호출시 동작(tensorflow에서 불로올떄 호출될 메서드)\n",
    "    def call(self, inputs, training=None):\n",
    "        x = inputs\n",
    "        x = self.embedding(x)\n",
    "        x = self.rnn(x)\n",
    "        x = self.outlayer(x)\n",
    "        prob = tf.sigmoid(x)\n",
    "        \n",
    "        return prob"
   ]
  },
  {
   "cell_type": "code",
   "execution_count": 10,
   "metadata": {},
   "outputs": [
    {
     "name": "stdout",
     "output_type": "stream",
     "text": [
      "Epoch 1/4\n",
      "\u001b[1m195/195\u001b[0m \u001b[32m━━━━━━━━━━━━━━━━━━━━\u001b[0m\u001b[37m\u001b[0m \u001b[1m7s\u001b[0m 27ms/step - accuracy: 0.5319 - loss: 0.6960\n",
      "Epoch 2/4\n",
      "\u001b[1m195/195\u001b[0m \u001b[32m━━━━━━━━━━━━━━━━━━━━\u001b[0m\u001b[37m\u001b[0m \u001b[1m7s\u001b[0m 38ms/step - accuracy: 0.8001 - loss: 0.4433 - val_accuracy: 0.8300 - val_loss: 0.3838\n",
      "Epoch 3/4\n",
      "\u001b[1m195/195\u001b[0m \u001b[32m━━━━━━━━━━━━━━━━━━━━\u001b[0m\u001b[37m\u001b[0m \u001b[1m5s\u001b[0m 27ms/step - accuracy: 0.8652 - loss: 0.3325\n",
      "Epoch 4/4\n",
      "\u001b[1m195/195\u001b[0m \u001b[32m━━━━━━━━━━━━━━━━━━━━\u001b[0m\u001b[37m\u001b[0m \u001b[1m7s\u001b[0m 37ms/step - accuracy: 0.8953 - loss: 0.2700 - val_accuracy: 0.8288 - val_loss: 0.4380\n"
     ]
    },
    {
     "data": {
      "text/plain": [
       "<keras.src.callbacks.history.History at 0x1df0092a120>"
      ]
     },
     "execution_count": 10,
     "metadata": {},
     "output_type": "execute_result"
    }
   ],
   "source": [
    "import time\n",
    "units = 64\n",
    "epochs = 4\n",
    "t0 = time.time() # 구동 시간을 비교하기 위해서...\n",
    "\n",
    "model = RNN_Build(units) # 객체 생성\n",
    "\n",
    "model.compile(optimizer=tf.keras.optimizers.Adam(0.001),\n",
    "              loss=tf.losses.BinaryCrossentropy(),\n",
    "              metrics=['accuracy'])\n",
    "\n",
    "model.fit(train_data, epochs=epochs, validation_data=test_data, validation_freq=2)"
   ]
  },
  {
   "cell_type": "code",
   "execution_count": 11,
   "metadata": {},
   "outputs": [
    {
     "name": "stdout",
     "output_type": "stream",
     "text": [
      "훈련 데이터셋 평가...\n",
      "loss=0.1536, accuracy: 94.2869%\n",
      "테스트 데이터셋 평가...\n",
      "loss=0.4380, accuracy: 82.8806%\n",
      "시간: 35.19547152519226\n"
     ]
    }
   ],
   "source": [
    "print(\"훈련 데이터셋 평가...\")\n",
    "(loss, accuracy) = model.evaluate(train_data, verbose=0)\n",
    "print(\"loss={:.4f}, accuracy: {:.4f}%\".format(loss,accuracy * 100))\n",
    "print(\"테스트 데이터셋 평가...\")\n",
    "(loss, accuracy) = model.evaluate(test_data, verbose=0)\n",
    "print(\"loss={:.4f}, accuracy: {:.4f}%\".format(loss,accuracy * 100))\n",
    "t1 = time.time()\n",
    "print('시간:', t1-t0)"
   ]
  },
  {
   "cell_type": "code",
   "execution_count": null,
   "metadata": {},
   "outputs": [],
   "source": [
    "# LSTM \n",
    "# 기울기 소멸문제를 해결하기 위해서\n",
    "# 망각게이터, 입력게이트, 출력게이트를 구현\n",
    "# 역전파는 cell을 통해서 수행. 중단없는 기울기가 된다\n",
    "# 주의) 역전파시 셀로 통해서 중단없이 전파되나 셀에서 입력으로도 오차가 전파된다"
   ]
  },
  {
   "cell_type": "code",
   "execution_count": 29,
   "metadata": {},
   "outputs": [],
   "source": [
    "# LSTM 모델 정의\n",
    "\n",
    "class LSTM_Build(tf.keras.Model):\n",
    "    def __init__(self, units):\n",
    "        super(LSTM_Build, self).__init__()\n",
    "        \n",
    "        self.embedding = tf.keras.layers.Embedding(\n",
    "            total_words,\n",
    "            embedding_len)\n",
    "        \n",
    "        self.RNN0 = tf.keras.layers.RNN(\n",
    "            tf.keras.layers.LSTMCell(units, dropout=0.5),\n",
    "            return_sequences=True\n",
    "        ) \n",
    "        self.RNN1 = tf.keras.layers.RNN(\n",
    "            tf.keras.layers.LSTMCell(units, dropout=0.5)\n",
    "        )\n",
    "        self.outlayer = tf.keras.layers.Dense(1)\n",
    "\n",
    "    def call(self, inputs, training=None):\n",
    "        x = inputs\n",
    "        x = self.embedding(x)\n",
    "        x = self.RNN0(x, training=training)\n",
    "        x = self.RNN1(x, training=training) \n",
    "        x = self.outlayer(x)\n",
    "        prob = tf.sigmoid(x)\n",
    "\n",
    "        return prob"
   ]
  },
  {
   "cell_type": "code",
   "execution_count": 30,
   "metadata": {},
   "outputs": [
    {
     "name": "stdout",
     "output_type": "stream",
     "text": [
      "Epoch 1/4\n",
      "\u001b[1m195/195\u001b[0m \u001b[32m━━━━━━━━━━━━━━━━━━━━\u001b[0m\u001b[37m\u001b[0m \u001b[1m16s\u001b[0m 71ms/step - accuracy: 0.6607 - loss: 0.5807\n",
      "Epoch 2/4\n",
      "\u001b[1m195/195\u001b[0m \u001b[32m━━━━━━━━━━━━━━━━━━━━\u001b[0m\u001b[37m\u001b[0m \u001b[1m19s\u001b[0m 99ms/step - accuracy: 0.8647 - loss: 0.3233 - val_accuracy: 0.8393 - val_loss: 0.3635\n",
      "Epoch 3/4\n",
      "\u001b[1m195/195\u001b[0m \u001b[32m━━━━━━━━━━━━━━━━━━━━\u001b[0m\u001b[37m\u001b[0m \u001b[1m13s\u001b[0m 68ms/step - accuracy: 0.8996 - loss: 0.2555\n",
      "Epoch 4/4\n",
      "\u001b[1m195/195\u001b[0m \u001b[32m━━━━━━━━━━━━━━━━━━━━\u001b[0m\u001b[37m\u001b[0m \u001b[1m19s\u001b[0m 95ms/step - accuracy: 0.9161 - loss: 0.2186 - val_accuracy: 0.8345 - val_loss: 0.3851\n"
     ]
    },
    {
     "data": {
      "text/plain": [
       "<keras.src.callbacks.history.History at 0x1df09da9790>"
      ]
     },
     "execution_count": 30,
     "metadata": {},
     "output_type": "execute_result"
    }
   ],
   "source": [
    "import time\n",
    "units = 64\n",
    "epochs = 4\n",
    "t0 = time.time() # 구동 시간을 비교하기 위해서...\n",
    "\n",
    "model = LSTM_Build(units) # 객체 생성\n",
    "\n",
    "model.compile(optimizer=tf.keras.optimizers.Adam(0.001),\n",
    "              loss=tf.losses.BinaryCrossentropy(),\n",
    "              metrics=['accuracy'])\n",
    "\n",
    "model.fit(train_data, epochs=epochs, validation_data=test_data, validation_freq=2)"
   ]
  },
  {
   "cell_type": "code",
   "execution_count": 27,
   "metadata": {},
   "outputs": [
    {
     "data": {
      "text/html": [
       "<pre style=\"white-space:pre;overflow-x:auto;line-height:normal;font-family:Menlo,'DejaVu Sans Mono',consolas,'Courier New',monospace\"><span style=\"font-weight: bold\">Model: \"lstm__build_6\"</span>\n",
       "</pre>\n"
      ],
      "text/plain": [
       "\u001b[1mModel: \"lstm__build_6\"\u001b[0m\n"
      ]
     },
     "metadata": {},
     "output_type": "display_data"
    },
    {
     "data": {
      "text/html": [
       "<pre style=\"white-space:pre;overflow-x:auto;line-height:normal;font-family:Menlo,'DejaVu Sans Mono',consolas,'Courier New',monospace\">┏━━━━━━━━━━━━━━━━━━━━━━━━━━━━━━━━━┳━━━━━━━━━━━━━━━━━━━━━━━━┳━━━━━━━━━━━━━━━┓\n",
       "┃<span style=\"font-weight: bold\"> Layer (type)                    </span>┃<span style=\"font-weight: bold\"> Output Shape           </span>┃<span style=\"font-weight: bold\">       Param # </span>┃\n",
       "┡━━━━━━━━━━━━━━━━━━━━━━━━━━━━━━━━━╇━━━━━━━━━━━━━━━━━━━━━━━━╇━━━━━━━━━━━━━━━┩\n",
       "│ embedding_9 (<span style=\"color: #0087ff; text-decoration-color: #0087ff\">Embedding</span>)         │ (<span style=\"color: #00af00; text-decoration-color: #00af00\">128</span>, <span style=\"color: #00af00; text-decoration-color: #00af00\">80</span>, <span style=\"color: #00af00; text-decoration-color: #00af00\">100</span>)         │     <span style=\"color: #00af00; text-decoration-color: #00af00\">1,000,000</span> │\n",
       "├─────────────────────────────────┼────────────────────────┼───────────────┤\n",
       "│ rnn_7 (<span style=\"color: #0087ff; text-decoration-color: #0087ff\">RNN</span>)                     │ (<span style=\"color: #00af00; text-decoration-color: #00af00\">128</span>, <span style=\"color: #00af00; text-decoration-color: #00af00\">80</span>, <span style=\"color: #00af00; text-decoration-color: #00af00\">64</span>)          │        <span style=\"color: #00af00; text-decoration-color: #00af00\">42,240</span> │\n",
       "├─────────────────────────────────┼────────────────────────┼───────────────┤\n",
       "│ rnn_8 (<span style=\"color: #0087ff; text-decoration-color: #0087ff\">RNN</span>)                     │ (<span style=\"color: #00af00; text-decoration-color: #00af00\">128</span>, <span style=\"color: #00af00; text-decoration-color: #00af00\">64</span>)              │        <span style=\"color: #00af00; text-decoration-color: #00af00\">33,024</span> │\n",
       "├─────────────────────────────────┼────────────────────────┼───────────────┤\n",
       "│ dense_5 (<span style=\"color: #0087ff; text-decoration-color: #0087ff\">Dense</span>)                 │ (<span style=\"color: #00af00; text-decoration-color: #00af00\">128</span>, <span style=\"color: #00af00; text-decoration-color: #00af00\">1</span>)               │            <span style=\"color: #00af00; text-decoration-color: #00af00\">65</span> │\n",
       "└─────────────────────────────────┴────────────────────────┴───────────────┘\n",
       "</pre>\n"
      ],
      "text/plain": [
       "┏━━━━━━━━━━━━━━━━━━━━━━━━━━━━━━━━━┳━━━━━━━━━━━━━━━━━━━━━━━━┳━━━━━━━━━━━━━━━┓\n",
       "┃\u001b[1m \u001b[0m\u001b[1mLayer (type)                   \u001b[0m\u001b[1m \u001b[0m┃\u001b[1m \u001b[0m\u001b[1mOutput Shape          \u001b[0m\u001b[1m \u001b[0m┃\u001b[1m \u001b[0m\u001b[1m      Param #\u001b[0m\u001b[1m \u001b[0m┃\n",
       "┡━━━━━━━━━━━━━━━━━━━━━━━━━━━━━━━━━╇━━━━━━━━━━━━━━━━━━━━━━━━╇━━━━━━━━━━━━━━━┩\n",
       "│ embedding_9 (\u001b[38;5;33mEmbedding\u001b[0m)         │ (\u001b[38;5;34m128\u001b[0m, \u001b[38;5;34m80\u001b[0m, \u001b[38;5;34m100\u001b[0m)         │     \u001b[38;5;34m1,000,000\u001b[0m │\n",
       "├─────────────────────────────────┼────────────────────────┼───────────────┤\n",
       "│ rnn_7 (\u001b[38;5;33mRNN\u001b[0m)                     │ (\u001b[38;5;34m128\u001b[0m, \u001b[38;5;34m80\u001b[0m, \u001b[38;5;34m64\u001b[0m)          │        \u001b[38;5;34m42,240\u001b[0m │\n",
       "├─────────────────────────────────┼────────────────────────┼───────────────┤\n",
       "│ rnn_8 (\u001b[38;5;33mRNN\u001b[0m)                     │ (\u001b[38;5;34m128\u001b[0m, \u001b[38;5;34m64\u001b[0m)              │        \u001b[38;5;34m33,024\u001b[0m │\n",
       "├─────────────────────────────────┼────────────────────────┼───────────────┤\n",
       "│ dense_5 (\u001b[38;5;33mDense\u001b[0m)                 │ (\u001b[38;5;34m128\u001b[0m, \u001b[38;5;34m1\u001b[0m)               │            \u001b[38;5;34m65\u001b[0m │\n",
       "└─────────────────────────────────┴────────────────────────┴───────────────┘\n"
      ]
     },
     "metadata": {},
     "output_type": "display_data"
    },
    {
     "data": {
      "text/html": [
       "<pre style=\"white-space:pre;overflow-x:auto;line-height:normal;font-family:Menlo,'DejaVu Sans Mono',consolas,'Courier New',monospace\"><span style=\"font-weight: bold\"> Total params: </span><span style=\"color: #00af00; text-decoration-color: #00af00\">3,225,989</span> (12.31 MB)\n",
       "</pre>\n"
      ],
      "text/plain": [
       "\u001b[1m Total params: \u001b[0m\u001b[38;5;34m3,225,989\u001b[0m (12.31 MB)\n"
      ]
     },
     "metadata": {},
     "output_type": "display_data"
    },
    {
     "data": {
      "text/html": [
       "<pre style=\"white-space:pre;overflow-x:auto;line-height:normal;font-family:Menlo,'DejaVu Sans Mono',consolas,'Courier New',monospace\"><span style=\"font-weight: bold\"> Trainable params: </span><span style=\"color: #00af00; text-decoration-color: #00af00\">1,075,329</span> (4.10 MB)\n",
       "</pre>\n"
      ],
      "text/plain": [
       "\u001b[1m Trainable params: \u001b[0m\u001b[38;5;34m1,075,329\u001b[0m (4.10 MB)\n"
      ]
     },
     "metadata": {},
     "output_type": "display_data"
    },
    {
     "data": {
      "text/html": [
       "<pre style=\"white-space:pre;overflow-x:auto;line-height:normal;font-family:Menlo,'DejaVu Sans Mono',consolas,'Courier New',monospace\"><span style=\"font-weight: bold\"> Non-trainable params: </span><span style=\"color: #00af00; text-decoration-color: #00af00\">0</span> (0.00 B)\n",
       "</pre>\n"
      ],
      "text/plain": [
       "\u001b[1m Non-trainable params: \u001b[0m\u001b[38;5;34m0\u001b[0m (0.00 B)\n"
      ]
     },
     "metadata": {},
     "output_type": "display_data"
    },
    {
     "data": {
      "text/html": [
       "<pre style=\"white-space:pre;overflow-x:auto;line-height:normal;font-family:Menlo,'DejaVu Sans Mono',consolas,'Courier New',monospace\"><span style=\"font-weight: bold\"> Optimizer params: </span><span style=\"color: #00af00; text-decoration-color: #00af00\">2,150,660</span> (8.20 MB)\n",
       "</pre>\n"
      ],
      "text/plain": [
       "\u001b[1m Optimizer params: \u001b[0m\u001b[38;5;34m2,150,660\u001b[0m (8.20 MB)\n"
      ]
     },
     "metadata": {},
     "output_type": "display_data"
    }
   ],
   "source": [
    "model.summary()"
   ]
  },
  {
   "cell_type": "code",
   "execution_count": 31,
   "metadata": {},
   "outputs": [
    {
     "name": "stdout",
     "output_type": "stream",
     "text": [
      "훈련 데이터셋 평가...\n",
      "loss=0.1540, accuracy: 95.3005%\n",
      "테스트 데이터셋 평가...\n",
      "loss=0.3851, accuracy: 83.4495%\n",
      "시간: 83.23613667488098\n"
     ]
    }
   ],
   "source": [
    "print(\"훈련 데이터셋 평가...\")\n",
    "(loss, accuracy) = model.evaluate(train_data, verbose=0)\n",
    "print(\"loss={:.4f}, accuracy: {:.4f}%\".format(loss,accuracy * 100))\n",
    "print(\"테스트 데이터셋 평가...\")\n",
    "(loss, accuracy) = model.evaluate(test_data, verbose=0)\n",
    "print(\"loss={:.4f}, accuracy: {:.4f}%\".format(loss,accuracy * 100))\n",
    "t1 = time.time()\n",
    "print('시간:', t1-t0)"
   ]
  },
  {
   "cell_type": "code",
   "execution_count": 33,
   "metadata": {},
   "outputs": [],
   "source": [
    "# LSTM_layer 구현.\n",
    "class LSTM_Build(tf.keras.Model):\n",
    "    def __init__(self, units):\n",
    "        super(LSTM_Build, self).__init__()\n",
    "        \n",
    "        # embedding\n",
    "        self.embedding = tf.keras.layers.Embedding(total_words, embedding_len)\n",
    "        # rnn\n",
    "        self.rnn = tf.keras.Sequential([\n",
    "            tf.keras.layers.LSTM(units, dropout=0.5, return_sequences=True, unroll=True),\n",
    "            # unroll 옵션은 시간 순서에 따라 입력층과 은닉층에 대한 네트워크를 펼치겠냐는 의미\n",
    "            # 메모리 사용량은 늘어날 수 있지나, 계속 속도는 빨라질 수 있음.\n",
    "            tf.keras.layers.LSTM(units, dropout=0.5, unroll=True)\n",
    "        ])\n",
    "        # outlayer\n",
    "        self.outlayer = tf.keras.layers.Dense(1)\n",
    "        \n",
    "    def call(self, inputs, training=None):\n",
    "        x = inputs\n",
    "        x = self.embedding(x)\n",
    "        x = self.rnn(x)\n",
    "        x = self.outlayer(x)\n",
    "        prob = tf.sigmoid(x)\n",
    "        \n",
    "        return prob"
   ]
  },
  {
   "cell_type": "code",
   "execution_count": 34,
   "metadata": {},
   "outputs": [
    {
     "data": {
      "text/html": [
       "<pre style=\"white-space:pre;overflow-x:auto;line-height:normal;font-family:Menlo,'DejaVu Sans Mono',consolas,'Courier New',monospace\"><span style=\"font-weight: bold\">Model: \"lstm__build_7\"</span>\n",
       "</pre>\n"
      ],
      "text/plain": [
       "\u001b[1mModel: \"lstm__build_7\"\u001b[0m\n"
      ]
     },
     "metadata": {},
     "output_type": "display_data"
    },
    {
     "data": {
      "text/html": [
       "<pre style=\"white-space:pre;overflow-x:auto;line-height:normal;font-family:Menlo,'DejaVu Sans Mono',consolas,'Courier New',monospace\">┏━━━━━━━━━━━━━━━━━━━━━━━━━━━━━━━━━┳━━━━━━━━━━━━━━━━━━━━━━━━┳━━━━━━━━━━━━━━━┓\n",
       "┃<span style=\"font-weight: bold\"> Layer (type)                    </span>┃<span style=\"font-weight: bold\"> Output Shape           </span>┃<span style=\"font-weight: bold\">       Param # </span>┃\n",
       "┡━━━━━━━━━━━━━━━━━━━━━━━━━━━━━━━━━╇━━━━━━━━━━━━━━━━━━━━━━━━╇━━━━━━━━━━━━━━━┩\n",
       "│ embedding_10 (<span style=\"color: #0087ff; text-decoration-color: #0087ff\">Embedding</span>)        │ (<span style=\"color: #00af00; text-decoration-color: #00af00\">128</span>, <span style=\"color: #00af00; text-decoration-color: #00af00\">80</span>, <span style=\"color: #00af00; text-decoration-color: #00af00\">100</span>)         │     <span style=\"color: #00af00; text-decoration-color: #00af00\">1,000,000</span> │\n",
       "├─────────────────────────────────┼────────────────────────┼───────────────┤\n",
       "│ rnn_9 (<span style=\"color: #0087ff; text-decoration-color: #0087ff\">RNN</span>)                     │ (<span style=\"color: #00af00; text-decoration-color: #00af00\">128</span>, <span style=\"color: #00af00; text-decoration-color: #00af00\">80</span>, <span style=\"color: #00af00; text-decoration-color: #00af00\">64</span>)          │        <span style=\"color: #00af00; text-decoration-color: #00af00\">42,240</span> │\n",
       "├─────────────────────────────────┼────────────────────────┼───────────────┤\n",
       "│ rnn_10 (<span style=\"color: #0087ff; text-decoration-color: #0087ff\">RNN</span>)                    │ (<span style=\"color: #00af00; text-decoration-color: #00af00\">128</span>, <span style=\"color: #00af00; text-decoration-color: #00af00\">64</span>)              │        <span style=\"color: #00af00; text-decoration-color: #00af00\">33,024</span> │\n",
       "├─────────────────────────────────┼────────────────────────┼───────────────┤\n",
       "│ dense_6 (<span style=\"color: #0087ff; text-decoration-color: #0087ff\">Dense</span>)                 │ (<span style=\"color: #00af00; text-decoration-color: #00af00\">128</span>, <span style=\"color: #00af00; text-decoration-color: #00af00\">1</span>)               │            <span style=\"color: #00af00; text-decoration-color: #00af00\">65</span> │\n",
       "└─────────────────────────────────┴────────────────────────┴───────────────┘\n",
       "</pre>\n"
      ],
      "text/plain": [
       "┏━━━━━━━━━━━━━━━━━━━━━━━━━━━━━━━━━┳━━━━━━━━━━━━━━━━━━━━━━━━┳━━━━━━━━━━━━━━━┓\n",
       "┃\u001b[1m \u001b[0m\u001b[1mLayer (type)                   \u001b[0m\u001b[1m \u001b[0m┃\u001b[1m \u001b[0m\u001b[1mOutput Shape          \u001b[0m\u001b[1m \u001b[0m┃\u001b[1m \u001b[0m\u001b[1m      Param #\u001b[0m\u001b[1m \u001b[0m┃\n",
       "┡━━━━━━━━━━━━━━━━━━━━━━━━━━━━━━━━━╇━━━━━━━━━━━━━━━━━━━━━━━━╇━━━━━━━━━━━━━━━┩\n",
       "│ embedding_10 (\u001b[38;5;33mEmbedding\u001b[0m)        │ (\u001b[38;5;34m128\u001b[0m, \u001b[38;5;34m80\u001b[0m, \u001b[38;5;34m100\u001b[0m)         │     \u001b[38;5;34m1,000,000\u001b[0m │\n",
       "├─────────────────────────────────┼────────────────────────┼───────────────┤\n",
       "│ rnn_9 (\u001b[38;5;33mRNN\u001b[0m)                     │ (\u001b[38;5;34m128\u001b[0m, \u001b[38;5;34m80\u001b[0m, \u001b[38;5;34m64\u001b[0m)          │        \u001b[38;5;34m42,240\u001b[0m │\n",
       "├─────────────────────────────────┼────────────────────────┼───────────────┤\n",
       "│ rnn_10 (\u001b[38;5;33mRNN\u001b[0m)                    │ (\u001b[38;5;34m128\u001b[0m, \u001b[38;5;34m64\u001b[0m)              │        \u001b[38;5;34m33,024\u001b[0m │\n",
       "├─────────────────────────────────┼────────────────────────┼───────────────┤\n",
       "│ dense_6 (\u001b[38;5;33mDense\u001b[0m)                 │ (\u001b[38;5;34m128\u001b[0m, \u001b[38;5;34m1\u001b[0m)               │            \u001b[38;5;34m65\u001b[0m │\n",
       "└─────────────────────────────────┴────────────────────────┴───────────────┘\n"
      ]
     },
     "metadata": {},
     "output_type": "display_data"
    },
    {
     "data": {
      "text/html": [
       "<pre style=\"white-space:pre;overflow-x:auto;line-height:normal;font-family:Menlo,'DejaVu Sans Mono',consolas,'Courier New',monospace\"><span style=\"font-weight: bold\"> Total params: </span><span style=\"color: #00af00; text-decoration-color: #00af00\">3,225,989</span> (12.31 MB)\n",
       "</pre>\n"
      ],
      "text/plain": [
       "\u001b[1m Total params: \u001b[0m\u001b[38;5;34m3,225,989\u001b[0m (12.31 MB)\n"
      ]
     },
     "metadata": {},
     "output_type": "display_data"
    },
    {
     "data": {
      "text/html": [
       "<pre style=\"white-space:pre;overflow-x:auto;line-height:normal;font-family:Menlo,'DejaVu Sans Mono',consolas,'Courier New',monospace\"><span style=\"font-weight: bold\"> Trainable params: </span><span style=\"color: #00af00; text-decoration-color: #00af00\">1,075,329</span> (4.10 MB)\n",
       "</pre>\n"
      ],
      "text/plain": [
       "\u001b[1m Trainable params: \u001b[0m\u001b[38;5;34m1,075,329\u001b[0m (4.10 MB)\n"
      ]
     },
     "metadata": {},
     "output_type": "display_data"
    },
    {
     "data": {
      "text/html": [
       "<pre style=\"white-space:pre;overflow-x:auto;line-height:normal;font-family:Menlo,'DejaVu Sans Mono',consolas,'Courier New',monospace\"><span style=\"font-weight: bold\"> Non-trainable params: </span><span style=\"color: #00af00; text-decoration-color: #00af00\">0</span> (0.00 B)\n",
       "</pre>\n"
      ],
      "text/plain": [
       "\u001b[1m Non-trainable params: \u001b[0m\u001b[38;5;34m0\u001b[0m (0.00 B)\n"
      ]
     },
     "metadata": {},
     "output_type": "display_data"
    },
    {
     "data": {
      "text/html": [
       "<pre style=\"white-space:pre;overflow-x:auto;line-height:normal;font-family:Menlo,'DejaVu Sans Mono',consolas,'Courier New',monospace\"><span style=\"font-weight: bold\"> Optimizer params: </span><span style=\"color: #00af00; text-decoration-color: #00af00\">2,150,660</span> (8.20 MB)\n",
       "</pre>\n"
      ],
      "text/plain": [
       "\u001b[1m Optimizer params: \u001b[0m\u001b[38;5;34m2,150,660\u001b[0m (8.20 MB)\n"
      ]
     },
     "metadata": {},
     "output_type": "display_data"
    }
   ],
   "source": [
    "model.summary()"
   ]
  },
  {
   "cell_type": "code",
   "execution_count": 35,
   "metadata": {},
   "outputs": [
    {
     "name": "stdout",
     "output_type": "stream",
     "text": [
      "Epoch 1/4\n",
      "\u001b[1m195/195\u001b[0m \u001b[32m━━━━━━━━━━━━━━━━━━━━\u001b[0m\u001b[37m\u001b[0m \u001b[1m30s\u001b[0m 72ms/step - accuracy: 0.6762 - loss: 0.5670\n",
      "Epoch 2/4\n",
      "\u001b[1m195/195\u001b[0m \u001b[32m━━━━━━━━━━━━━━━━━━━━\u001b[0m\u001b[37m\u001b[0m \u001b[1m22s\u001b[0m 114ms/step - accuracy: 0.8719 - loss: 0.3140 - val_accuracy: 0.8419 - val_loss: 0.3584\n",
      "Epoch 3/4\n",
      "\u001b[1m195/195\u001b[0m \u001b[32m━━━━━━━━━━━━━━━━━━━━\u001b[0m\u001b[37m\u001b[0m \u001b[1m13s\u001b[0m 67ms/step - accuracy: 0.8952 - loss: 0.2622\n",
      "Epoch 4/4\n",
      "\u001b[1m195/195\u001b[0m \u001b[32m━━━━━━━━━━━━━━━━━━━━\u001b[0m\u001b[37m\u001b[0m \u001b[1m18s\u001b[0m 95ms/step - accuracy: 0.9189 - loss: 0.2148 - val_accuracy: 0.8313 - val_loss: 0.3838\n"
     ]
    },
    {
     "data": {
      "text/plain": [
       "<keras.src.callbacks.history.History at 0x1df06d3e2d0>"
      ]
     },
     "execution_count": 35,
     "metadata": {},
     "output_type": "execute_result"
    }
   ],
   "source": [
    "import time\n",
    "units = 64\n",
    "epochs = 4\n",
    "t0 = time.time()\n",
    "model = LSTM_Build(units)\n",
    "model.compile(optimizer=tf.keras.optimizers.Adam(0.001),\n",
    "              loss= tf.losses.BinaryCrossentropy(),\n",
    "              metrics=['accuracy'])\n",
    "\n",
    "model.fit(train_data, epochs=epochs, validation_data=test_data, validation_freq=2)"
   ]
  },
  {
   "cell_type": "code",
   "execution_count": 36,
   "metadata": {},
   "outputs": [
    {
     "name": "stdout",
     "output_type": "stream",
     "text": [
      "훈련 데이터셋 평가...\n",
      "loss=0.1700, accuracy: 94.5833%\n",
      "테스트 데이터셋 평가...\n",
      "loss=0.3838, accuracy: 83.1330%\n",
      "시간: 95.92604851722717\n"
     ]
    }
   ],
   "source": [
    "print(\"훈련 데이터셋 평가...\")\n",
    "(loss, accuracy) = model.evaluate(train_data, verbose=0)\n",
    "print(\"loss={:.4f}, accuracy: {:.4f}%\".format(loss,accuracy * 100))\n",
    "print(\"테스트 데이터셋 평가...\")\n",
    "(loss, accuracy) = model.evaluate(test_data, verbose=0)\n",
    "print(\"loss={:.4f}, accuracy: {:.4f}%\".format(loss,accuracy * 100))\n",
    "t1 = time.time()\n",
    "print('시간:', t1-t0)"
   ]
  },
  {
   "cell_type": "code",
   "execution_count": null,
   "metadata": {},
   "outputs": [],
   "source": [
    "# GRU 구조\n",
    "## 특징이 LSTM에서 사용하는 망각게이트와 입력게이트를 하나로 합침.\n",
    "## 별도의 업데이트 게이트를 구성함(LSTM의 출력게이트 사용하지 않고 구현)"
   ]
  },
  {
   "cell_type": "code",
   "execution_count": 37,
   "metadata": {},
   "outputs": [],
   "source": [
    "# GRU 구현 - 모델 정의\n",
    "class GRU_Build(tf.keras.Model):\n",
    "    def __init__(self, units):\n",
    "        super(GRU_Build, self).__init__()\n",
    "        \n",
    "        # Embedding Layer\n",
    "        self.embedding = tf.keras.layers.Embedding(total_words, embedding_len)\n",
    "        # RNN 레이어\n",
    "        self.RNN0 = tf.keras.layers.RNN(\n",
    "            tf.keras.layers.GRUCell(units, dropout=0.5),\n",
    "            return_sequences=True\n",
    "        )\n",
    "        self.RNN1 = tf.keras.layers.RNN(\n",
    "            tf.keras.layers.GRUCell(units, dropout=0.5)\n",
    "        )\n",
    "        # outlayer\n",
    "        self.outlayer = tf.keras.layers.Dense(1)\n",
    "        \n",
    "    def call(self, inputs, training=None):\n",
    "        x = inputs\n",
    "        x = self.embedding(x)\n",
    "        x = self.RNN0(x)\n",
    "        x = self.RNN1(x)\n",
    "        x = self.outlayer(x)\n",
    "        prob = tf.sigmoid(x)\n",
    "        \n",
    "        return prob"
   ]
  },
  {
   "cell_type": "code",
   "execution_count": 41,
   "metadata": {},
   "outputs": [
    {
     "data": {
      "text/html": [
       "<pre style=\"white-space:pre;overflow-x:auto;line-height:normal;font-family:Menlo,'DejaVu Sans Mono',consolas,'Courier New',monospace\"><span style=\"font-weight: bold\">Model: \"gru__build_1\"</span>\n",
       "</pre>\n"
      ],
      "text/plain": [
       "\u001b[1mModel: \"gru__build_1\"\u001b[0m\n"
      ]
     },
     "metadata": {},
     "output_type": "display_data"
    },
    {
     "data": {
      "text/html": [
       "<pre style=\"white-space:pre;overflow-x:auto;line-height:normal;font-family:Menlo,'DejaVu Sans Mono',consolas,'Courier New',monospace\">┏━━━━━━━━━━━━━━━━━━━━━━━━━━━━━━━━━┳━━━━━━━━━━━━━━━━━━━━━━━━┳━━━━━━━━━━━━━━━┓\n",
       "┃<span style=\"font-weight: bold\"> Layer (type)                    </span>┃<span style=\"font-weight: bold\"> Output Shape           </span>┃<span style=\"font-weight: bold\">       Param # </span>┃\n",
       "┡━━━━━━━━━━━━━━━━━━━━━━━━━━━━━━━━━╇━━━━━━━━━━━━━━━━━━━━━━━━╇━━━━━━━━━━━━━━━┩\n",
       "│ embedding_14 (<span style=\"color: #0087ff; text-decoration-color: #0087ff\">Embedding</span>)        │ ?                      │   <span style=\"color: #00af00; text-decoration-color: #00af00\">0</span> (unbuilt) │\n",
       "├─────────────────────────────────┼────────────────────────┼───────────────┤\n",
       "│ rnn_13 (<span style=\"color: #0087ff; text-decoration-color: #0087ff\">RNN</span>)                    │ ?                      │   <span style=\"color: #00af00; text-decoration-color: #00af00\">0</span> (unbuilt) │\n",
       "├─────────────────────────────────┼────────────────────────┼───────────────┤\n",
       "│ rnn_14 (<span style=\"color: #0087ff; text-decoration-color: #0087ff\">RNN</span>)                    │ ?                      │   <span style=\"color: #00af00; text-decoration-color: #00af00\">0</span> (unbuilt) │\n",
       "├─────────────────────────────────┼────────────────────────┼───────────────┤\n",
       "│ dense_10 (<span style=\"color: #0087ff; text-decoration-color: #0087ff\">Dense</span>)                │ ?                      │   <span style=\"color: #00af00; text-decoration-color: #00af00\">0</span> (unbuilt) │\n",
       "└─────────────────────────────────┴────────────────────────┴───────────────┘\n",
       "</pre>\n"
      ],
      "text/plain": [
       "┏━━━━━━━━━━━━━━━━━━━━━━━━━━━━━━━━━┳━━━━━━━━━━━━━━━━━━━━━━━━┳━━━━━━━━━━━━━━━┓\n",
       "┃\u001b[1m \u001b[0m\u001b[1mLayer (type)                   \u001b[0m\u001b[1m \u001b[0m┃\u001b[1m \u001b[0m\u001b[1mOutput Shape          \u001b[0m\u001b[1m \u001b[0m┃\u001b[1m \u001b[0m\u001b[1m      Param #\u001b[0m\u001b[1m \u001b[0m┃\n",
       "┡━━━━━━━━━━━━━━━━━━━━━━━━━━━━━━━━━╇━━━━━━━━━━━━━━━━━━━━━━━━╇━━━━━━━━━━━━━━━┩\n",
       "│ embedding_14 (\u001b[38;5;33mEmbedding\u001b[0m)        │ ?                      │   \u001b[38;5;34m0\u001b[0m (unbuilt) │\n",
       "├─────────────────────────────────┼────────────────────────┼───────────────┤\n",
       "│ rnn_13 (\u001b[38;5;33mRNN\u001b[0m)                    │ ?                      │   \u001b[38;5;34m0\u001b[0m (unbuilt) │\n",
       "├─────────────────────────────────┼────────────────────────┼───────────────┤\n",
       "│ rnn_14 (\u001b[38;5;33mRNN\u001b[0m)                    │ ?                      │   \u001b[38;5;34m0\u001b[0m (unbuilt) │\n",
       "├─────────────────────────────────┼────────────────────────┼───────────────┤\n",
       "│ dense_10 (\u001b[38;5;33mDense\u001b[0m)                │ ?                      │   \u001b[38;5;34m0\u001b[0m (unbuilt) │\n",
       "└─────────────────────────────────┴────────────────────────┴───────────────┘\n"
      ]
     },
     "metadata": {},
     "output_type": "display_data"
    },
    {
     "data": {
      "text/html": [
       "<pre style=\"white-space:pre;overflow-x:auto;line-height:normal;font-family:Menlo,'DejaVu Sans Mono',consolas,'Courier New',monospace\"><span style=\"font-weight: bold\"> Total params: </span><span style=\"color: #00af00; text-decoration-color: #00af00\">0</span> (0.00 B)\n",
       "</pre>\n"
      ],
      "text/plain": [
       "\u001b[1m Total params: \u001b[0m\u001b[38;5;34m0\u001b[0m (0.00 B)\n"
      ]
     },
     "metadata": {},
     "output_type": "display_data"
    },
    {
     "data": {
      "text/html": [
       "<pre style=\"white-space:pre;overflow-x:auto;line-height:normal;font-family:Menlo,'DejaVu Sans Mono',consolas,'Courier New',monospace\"><span style=\"font-weight: bold\"> Trainable params: </span><span style=\"color: #00af00; text-decoration-color: #00af00\">0</span> (0.00 B)\n",
       "</pre>\n"
      ],
      "text/plain": [
       "\u001b[1m Trainable params: \u001b[0m\u001b[38;5;34m0\u001b[0m (0.00 B)\n"
      ]
     },
     "metadata": {},
     "output_type": "display_data"
    },
    {
     "data": {
      "text/html": [
       "<pre style=\"white-space:pre;overflow-x:auto;line-height:normal;font-family:Menlo,'DejaVu Sans Mono',consolas,'Courier New',monospace\"><span style=\"font-weight: bold\"> Non-trainable params: </span><span style=\"color: #00af00; text-decoration-color: #00af00\">0</span> (0.00 B)\n",
       "</pre>\n"
      ],
      "text/plain": [
       "\u001b[1m Non-trainable params: \u001b[0m\u001b[38;5;34m0\u001b[0m (0.00 B)\n"
      ]
     },
     "metadata": {},
     "output_type": "display_data"
    },
    {
     "name": "stdout",
     "output_type": "stream",
     "text": [
      "Epoch 1/4\n",
      "\u001b[1m195/195\u001b[0m \u001b[32m━━━━━━━━━━━━━━━━━━━━\u001b[0m\u001b[37m\u001b[0m \u001b[1m16s\u001b[0m 72ms/step - accuracy: 0.6350 - loss: 0.6106\n",
      "Epoch 2/4\n",
      "\u001b[1m195/195\u001b[0m \u001b[32m━━━━━━━━━━━━━━━━━━━━\u001b[0m\u001b[37m\u001b[0m \u001b[1m19s\u001b[0m 99ms/step - accuracy: 0.8602 - loss: 0.3338 - val_accuracy: 0.8385 - val_loss: 0.3655\n",
      "Epoch 3/4\n",
      "\u001b[1m195/195\u001b[0m \u001b[32m━━━━━━━━━━━━━━━━━━━━\u001b[0m\u001b[37m\u001b[0m \u001b[1m13s\u001b[0m 69ms/step - accuracy: 0.8945 - loss: 0.2632\n",
      "Epoch 4/4\n",
      "\u001b[1m195/195\u001b[0m \u001b[32m━━━━━━━━━━━━━━━━━━━━\u001b[0m\u001b[37m\u001b[0m \u001b[1m18s\u001b[0m 92ms/step - accuracy: 0.9204 - loss: 0.2117 - val_accuracy: 0.8345 - val_loss: 0.4354\n"
     ]
    },
    {
     "data": {
      "text/plain": [
       "<keras.src.callbacks.history.History at 0x1df09315370>"
      ]
     },
     "execution_count": 41,
     "metadata": {},
     "output_type": "execute_result"
    }
   ],
   "source": [
    "import time\n",
    "units = 64\n",
    "epochs = 4\n",
    "t0 = time.time()\n",
    "model = GRU_Build(units)\n",
    "model.compile(optimizer=tf.keras.optimizers.Adam(0.001),\n",
    "              loss= tf.losses.BinaryCrossentropy(),\n",
    "              metrics=['accuracy'])\n",
    "\n",
    "model.summary()\n",
    "model.fit(train_data, epochs=epochs, validation_data=test_data, validation_freq=2)"
   ]
  },
  {
   "cell_type": "code",
   "execution_count": 42,
   "metadata": {},
   "outputs": [
    {
     "name": "stdout",
     "output_type": "stream",
     "text": [
      "훈련 데이터셋 평가...\n",
      "loss=0.1355, accuracy: 95.2524%\n",
      "테스트 데이터셋 평가...\n",
      "loss=0.4354, accuracy: 83.4495%\n",
      "시간: 79.52021050453186\n"
     ]
    }
   ],
   "source": [
    "print(\"훈련 데이터셋 평가...\")\n",
    "(loss, accuracy) = model.evaluate(train_data, verbose=0)\n",
    "print(\"loss={:.4f}, accuracy: {:.4f}%\".format(loss,accuracy * 100))\n",
    "print(\"테스트 데이터셋 평가...\")\n",
    "(loss, accuracy) = model.evaluate(test_data, verbose=0)\n",
    "print(\"loss={:.4f}, accuracy: {:.4f}%\".format(loss,accuracy * 100))\n",
    "t1 = time.time()\n",
    "print('시간:', t1-t0)"
   ]
  },
  {
   "cell_type": "code",
   "execution_count": 46,
   "metadata": {},
   "outputs": [],
   "source": [
    "# GRU 계층으로 구현..\n",
    "\n",
    "class GRU_Build(tf.keras.Model):\n",
    "    def __init__(self, units):\n",
    "        super(GRU_Build, self).__init__()\n",
    "        \n",
    "        self.embedding = tf.keras.layers.Embedding(\n",
    "            total_words,\n",
    "            embedding_len\n",
    "        )\n",
    "        self.rnn = tf.keras.Sequential([\n",
    "            tf.keras.layers.GRU(units, dropout=0.5, return_sequences=True, unroll=True),\n",
    "            tf.keras.layers.GRU(units, dropout=0.5, unroll=True)\n",
    "        ])\n",
    "        self.outlayer = tf.keras.layers.Dense(1)\n",
    "        \n",
    "    def call(self, inputs, training=None):\n",
    "        x = inputs\n",
    "        x = self.embedding(x)\n",
    "        x = self.rnn(x)\n",
    "        x = self.outlayer(x)\n",
    "        prob = tf.sigmoid(x)\n",
    "        \n",
    "        return prob"
   ]
  },
  {
   "cell_type": "code",
   "execution_count": 49,
   "metadata": {},
   "outputs": [
    {
     "data": {
      "text/html": [
       "<pre style=\"white-space:pre;overflow-x:auto;line-height:normal;font-family:Menlo,'DejaVu Sans Mono',consolas,'Courier New',monospace\"><span style=\"font-weight: bold\">Model: \"gru__build_4\"</span>\n",
       "</pre>\n"
      ],
      "text/plain": [
       "\u001b[1mModel: \"gru__build_4\"\u001b[0m\n"
      ]
     },
     "metadata": {},
     "output_type": "display_data"
    },
    {
     "data": {
      "text/html": [
       "<pre style=\"white-space:pre;overflow-x:auto;line-height:normal;font-family:Menlo,'DejaVu Sans Mono',consolas,'Courier New',monospace\">┏━━━━━━━━━━━━━━━━━━━━━━━━━━━━━━━━━┳━━━━━━━━━━━━━━━━━━━━━━━━┳━━━━━━━━━━━━━━━┓\n",
       "┃<span style=\"font-weight: bold\"> Layer (type)                    </span>┃<span style=\"font-weight: bold\"> Output Shape           </span>┃<span style=\"font-weight: bold\">       Param # </span>┃\n",
       "┡━━━━━━━━━━━━━━━━━━━━━━━━━━━━━━━━━╇━━━━━━━━━━━━━━━━━━━━━━━━╇━━━━━━━━━━━━━━━┩\n",
       "│ embedding_17 (<span style=\"color: #0087ff; text-decoration-color: #0087ff\">Embedding</span>)        │ ?                      │   <span style=\"color: #00af00; text-decoration-color: #00af00\">0</span> (unbuilt) │\n",
       "├─────────────────────────────────┼────────────────────────┼───────────────┤\n",
       "│ sequential_6 (<span style=\"color: #0087ff; text-decoration-color: #0087ff\">Sequential</span>)       │ ?                      │   <span style=\"color: #00af00; text-decoration-color: #00af00\">0</span> (unbuilt) │\n",
       "├─────────────────────────────────┼────────────────────────┼───────────────┤\n",
       "│ dense_13 (<span style=\"color: #0087ff; text-decoration-color: #0087ff\">Dense</span>)                │ ?                      │   <span style=\"color: #00af00; text-decoration-color: #00af00\">0</span> (unbuilt) │\n",
       "└─────────────────────────────────┴────────────────────────┴───────────────┘\n",
       "</pre>\n"
      ],
      "text/plain": [
       "┏━━━━━━━━━━━━━━━━━━━━━━━━━━━━━━━━━┳━━━━━━━━━━━━━━━━━━━━━━━━┳━━━━━━━━━━━━━━━┓\n",
       "┃\u001b[1m \u001b[0m\u001b[1mLayer (type)                   \u001b[0m\u001b[1m \u001b[0m┃\u001b[1m \u001b[0m\u001b[1mOutput Shape          \u001b[0m\u001b[1m \u001b[0m┃\u001b[1m \u001b[0m\u001b[1m      Param #\u001b[0m\u001b[1m \u001b[0m┃\n",
       "┡━━━━━━━━━━━━━━━━━━━━━━━━━━━━━━━━━╇━━━━━━━━━━━━━━━━━━━━━━━━╇━━━━━━━━━━━━━━━┩\n",
       "│ embedding_17 (\u001b[38;5;33mEmbedding\u001b[0m)        │ ?                      │   \u001b[38;5;34m0\u001b[0m (unbuilt) │\n",
       "├─────────────────────────────────┼────────────────────────┼───────────────┤\n",
       "│ sequential_6 (\u001b[38;5;33mSequential\u001b[0m)       │ ?                      │   \u001b[38;5;34m0\u001b[0m (unbuilt) │\n",
       "├─────────────────────────────────┼────────────────────────┼───────────────┤\n",
       "│ dense_13 (\u001b[38;5;33mDense\u001b[0m)                │ ?                      │   \u001b[38;5;34m0\u001b[0m (unbuilt) │\n",
       "└─────────────────────────────────┴────────────────────────┴───────────────┘\n"
      ]
     },
     "metadata": {},
     "output_type": "display_data"
    },
    {
     "data": {
      "text/html": [
       "<pre style=\"white-space:pre;overflow-x:auto;line-height:normal;font-family:Menlo,'DejaVu Sans Mono',consolas,'Courier New',monospace\"><span style=\"font-weight: bold\"> Total params: </span><span style=\"color: #00af00; text-decoration-color: #00af00\">0</span> (0.00 B)\n",
       "</pre>\n"
      ],
      "text/plain": [
       "\u001b[1m Total params: \u001b[0m\u001b[38;5;34m0\u001b[0m (0.00 B)\n"
      ]
     },
     "metadata": {},
     "output_type": "display_data"
    },
    {
     "data": {
      "text/html": [
       "<pre style=\"white-space:pre;overflow-x:auto;line-height:normal;font-family:Menlo,'DejaVu Sans Mono',consolas,'Courier New',monospace\"><span style=\"font-weight: bold\"> Trainable params: </span><span style=\"color: #00af00; text-decoration-color: #00af00\">0</span> (0.00 B)\n",
       "</pre>\n"
      ],
      "text/plain": [
       "\u001b[1m Trainable params: \u001b[0m\u001b[38;5;34m0\u001b[0m (0.00 B)\n"
      ]
     },
     "metadata": {},
     "output_type": "display_data"
    },
    {
     "data": {
      "text/html": [
       "<pre style=\"white-space:pre;overflow-x:auto;line-height:normal;font-family:Menlo,'DejaVu Sans Mono',consolas,'Courier New',monospace\"><span style=\"font-weight: bold\"> Non-trainable params: </span><span style=\"color: #00af00; text-decoration-color: #00af00\">0</span> (0.00 B)\n",
       "</pre>\n"
      ],
      "text/plain": [
       "\u001b[1m Non-trainable params: \u001b[0m\u001b[38;5;34m0\u001b[0m (0.00 B)\n"
      ]
     },
     "metadata": {},
     "output_type": "display_data"
    },
    {
     "name": "stdout",
     "output_type": "stream",
     "text": [
      "Epoch 1/20\n",
      "\u001b[1m195/195\u001b[0m \u001b[32m━━━━━━━━━━━━━━━━━━━━\u001b[0m\u001b[37m\u001b[0m \u001b[1m56s\u001b[0m 158ms/step - accuracy: 0.6307 - loss: 0.6087\n",
      "Epoch 2/20\n",
      "\u001b[1m195/195\u001b[0m \u001b[32m━━━━━━━━━━━━━━━━━━━━\u001b[0m\u001b[37m\u001b[0m \u001b[1m46s\u001b[0m 238ms/step - accuracy: 0.8630 - loss: 0.3251 - val_accuracy: 0.8322 - val_loss: 0.3799\n",
      "Epoch 3/20\n",
      "\u001b[1m195/195\u001b[0m \u001b[32m━━━━━━━━━━━━━━━━━━━━\u001b[0m\u001b[37m\u001b[0m \u001b[1m30s\u001b[0m 156ms/step - accuracy: 0.8936 - loss: 0.2636\n",
      "Epoch 4/20\n",
      "\u001b[1m195/195\u001b[0m \u001b[32m━━━━━━━━━━━━━━━━━━━━\u001b[0m\u001b[37m\u001b[0m \u001b[1m42s\u001b[0m 213ms/step - accuracy: 0.9165 - loss: 0.2141 - val_accuracy: 0.8335 - val_loss: 0.4084\n",
      "Epoch 5/20\n",
      "\u001b[1m195/195\u001b[0m \u001b[32m━━━━━━━━━━━━━━━━━━━━\u001b[0m\u001b[37m\u001b[0m \u001b[1m31s\u001b[0m 158ms/step - accuracy: 0.9310 - loss: 0.1831\n",
      "Epoch 6/20\n",
      "\u001b[1m195/195\u001b[0m \u001b[32m━━━━━━━━━━━━━━━━━━━━\u001b[0m\u001b[37m\u001b[0m \u001b[1m42s\u001b[0m 214ms/step - accuracy: 0.9417 - loss: 0.1572 - val_accuracy: 0.8261 - val_loss: 0.4809\n",
      "Epoch 7/20\n",
      "\u001b[1m195/195\u001b[0m \u001b[32m━━━━━━━━━━━━━━━━━━━━\u001b[0m\u001b[37m\u001b[0m \u001b[1m31s\u001b[0m 157ms/step - accuracy: 0.9529 - loss: 0.1360\n",
      "Epoch 8/20\n",
      "\u001b[1m195/195\u001b[0m \u001b[32m━━━━━━━━━━━━━━━━━━━━\u001b[0m\u001b[37m\u001b[0m \u001b[1m42s\u001b[0m 213ms/step - accuracy: 0.9586 - loss: 0.1192 - val_accuracy: 0.8203 - val_loss: 0.5267\n",
      "Epoch 9/20\n",
      "\u001b[1m195/195\u001b[0m \u001b[32m━━━━━━━━━━━━━━━━━━━━\u001b[0m\u001b[37m\u001b[0m \u001b[1m31s\u001b[0m 156ms/step - accuracy: 0.9659 - loss: 0.0975\n",
      "Epoch 10/20\n",
      "\u001b[1m195/195\u001b[0m \u001b[32m━━━━━━━━━━━━━━━━━━━━\u001b[0m\u001b[37m\u001b[0m \u001b[1m42s\u001b[0m 214ms/step - accuracy: 0.9705 - loss: 0.0835 - val_accuracy: 0.8184 - val_loss: 0.6570\n",
      "Epoch 11/20\n",
      "\u001b[1m195/195\u001b[0m \u001b[32m━━━━━━━━━━━━━━━━━━━━\u001b[0m\u001b[37m\u001b[0m \u001b[1m31s\u001b[0m 157ms/step - accuracy: 0.9737 - loss: 0.0738\n",
      "Epoch 12/20\n",
      "\u001b[1m195/195\u001b[0m \u001b[32m━━━━━━━━━━━━━━━━━━━━\u001b[0m\u001b[37m\u001b[0m \u001b[1m42s\u001b[0m 214ms/step - accuracy: 0.9800 - loss: 0.0553 - val_accuracy: 0.8166 - val_loss: 0.7901\n",
      "Epoch 13/20\n",
      "\u001b[1m195/195\u001b[0m \u001b[32m━━━━━━━━━━━━━━━━━━━━\u001b[0m\u001b[37m\u001b[0m \u001b[1m31s\u001b[0m 157ms/step - accuracy: 0.9809 - loss: 0.0574\n",
      "Epoch 14/20\n",
      "\u001b[1m195/195\u001b[0m \u001b[32m━━━━━━━━━━━━━━━━━━━━\u001b[0m\u001b[37m\u001b[0m \u001b[1m42s\u001b[0m 214ms/step - accuracy: 0.9848 - loss: 0.0460 - val_accuracy: 0.8135 - val_loss: 0.7613\n",
      "Epoch 15/20\n",
      "\u001b[1m195/195\u001b[0m \u001b[32m━━━━━━━━━━━━━━━━━━━━\u001b[0m\u001b[37m\u001b[0m \u001b[1m31s\u001b[0m 158ms/step - accuracy: 0.9854 - loss: 0.0453\n",
      "Epoch 16/20\n",
      "\u001b[1m195/195\u001b[0m \u001b[32m━━━━━━━━━━━━━━━━━━━━\u001b[0m\u001b[37m\u001b[0m \u001b[1m42s\u001b[0m 214ms/step - accuracy: 0.9868 - loss: 0.0396 - val_accuracy: 0.8134 - val_loss: 0.8939\n",
      "Epoch 17/20\n",
      "\u001b[1m195/195\u001b[0m \u001b[32m━━━━━━━━━━━━━━━━━━━━\u001b[0m\u001b[37m\u001b[0m \u001b[1m31s\u001b[0m 157ms/step - accuracy: 0.9889 - loss: 0.0344\n",
      "Epoch 18/20\n",
      "\u001b[1m195/195\u001b[0m \u001b[32m━━━━━━━━━━━━━━━━━━━━\u001b[0m\u001b[37m\u001b[0m \u001b[1m42s\u001b[0m 214ms/step - accuracy: 0.9877 - loss: 0.0396 - val_accuracy: 0.8112 - val_loss: 0.9978\n",
      "Epoch 19/20\n",
      "\u001b[1m195/195\u001b[0m \u001b[32m━━━━━━━━━━━━━━━━━━━━\u001b[0m\u001b[37m\u001b[0m \u001b[1m31s\u001b[0m 157ms/step - accuracy: 0.9899 - loss: 0.0273\n",
      "Epoch 20/20\n",
      "\u001b[1m195/195\u001b[0m \u001b[32m━━━━━━━━━━━━━━━━━━━━\u001b[0m\u001b[37m\u001b[0m \u001b[1m42s\u001b[0m 214ms/step - accuracy: 0.9887 - loss: 0.0342 - val_accuracy: 0.8093 - val_loss: 1.0807\n"
     ]
    },
    {
     "data": {
      "text/plain": [
       "<keras.src.callbacks.history.History at 0x1dfa1acbec0>"
      ]
     },
     "execution_count": 49,
     "metadata": {},
     "output_type": "execute_result"
    }
   ],
   "source": [
    "import time\n",
    "units = 64\n",
    "epochs = 20\n",
    "t0 = time.time()\n",
    "model = GRU_Build(units)\n",
    "model.compile(optimizer=tf.keras.optimizers.Adam(0.001),\n",
    "              loss= tf.losses.BinaryCrossentropy(),\n",
    "              metrics=['accuracy'])\n",
    "\n",
    "model.summary()\n",
    "model.fit(train_data, epochs=epochs, validation_data=test_data, validation_freq=2)"
   ]
  },
  {
   "cell_type": "code",
   "execution_count": 50,
   "metadata": {},
   "outputs": [
    {
     "name": "stdout",
     "output_type": "stream",
     "text": [
      "훈련 데이터셋 평가...\n",
      "loss=0.0063, accuracy: 99.8478%\n",
      "테스트 데이터셋 평가...\n",
      "loss=1.0807, accuracy: 80.9295%\n",
      "시간: 787.9252443313599\n"
     ]
    }
   ],
   "source": [
    "print(\"훈련 데이터셋 평가...\")\n",
    "(loss, accuracy) = model.evaluate(train_data, verbose=0)\n",
    "print(\"loss={:.4f}, accuracy: {:.4f}%\".format(loss,accuracy * 100))\n",
    "print(\"테스트 데이터셋 평가...\")\n",
    "(loss, accuracy) = model.evaluate(test_data, verbose=0)\n",
    "print(\"loss={:.4f}, accuracy: {:.4f}%\".format(loss,accuracy * 100))\n",
    "t1 = time.time()\n",
    "print('시간:', t1-t0)"
   ]
  },
  {
   "cell_type": "code",
   "execution_count": null,
   "metadata": {},
   "outputs": [],
   "source": [
    "# 양방향 RNN\n",
    "# RNN은 이전 시점의 데이터라고해서 예측하지만, 실제 문제는 과거 시점 만이 아닌 미래의 시점의 데이터에 힌트가 있는 경우가 있다.\n",
    "# 따라서, 데이터를 훈련할 때에 특정 시점의 과거 뿐만 아니라 미래의 시점의 값들도 같이 사용하여 예측을 진행"
   ]
  },
  {
   "cell_type": "code",
   "execution_count": 51,
   "metadata": {},
   "outputs": [],
   "source": [
    "import numpy as np\n",
    "from tensorflow.keras.preprocessing import sequence\n",
    "from tensorflow.keras.models import Sequential\n",
    "from tensorflow.keras.layers import Dense, Dropout, Embedding, LSTM, Bidirectional\n",
    "from tensorflow.keras.optimizers import Adam\n",
    "from tensorflow.keras.datasets import imdb"
   ]
  },
  {
   "cell_type": "code",
   "execution_count": 58,
   "metadata": {},
   "outputs": [],
   "source": [
    "# 초기화 값\n",
    "n_unique_words = 10000\n",
    "maxlen = 200\n",
    "batch_size = 128\n"
   ]
  },
  {
   "cell_type": "code",
   "execution_count": 59,
   "metadata": {},
   "outputs": [],
   "source": [
    "# 훈련 데이터 전처리\n",
    "(x_train, y_train), (x_test, y_test) = imdb.load_data(num_words=n_unique_words)\n",
    "x_train = sequence.pad_sequences(x_train, maxlen=maxlen)\n",
    "x_test = sequence.pad_sequences(x_test, maxlen=maxlen)\n",
    "y_train = np.array(y_train)\n",
    "y_test = np.array(y_test)"
   ]
  },
  {
   "cell_type": "code",
   "execution_count": 63,
   "metadata": {},
   "outputs": [],
   "source": [
    "# 모델 생성(Sequential을 사용)\n",
    "model = Sequential()\n",
    "model.add(Embedding(n_unique_words, batch_size))\n",
    "model.add(Bidirectional(LSTM(64)))\n",
    "model.add(Dropout(0.5))\n",
    "model.add(Dense(1, activation='sigmoid'))\n",
    "\n",
    "# 모델 컴파일\n",
    "model.compile(\n",
    "    optimizer='adam',\n",
    "    loss='binary_crossentropy',\n",
    "    metrics=['accuracy']\n",
    ")"
   ]
  },
  {
   "cell_type": "code",
   "execution_count": 64,
   "metadata": {},
   "outputs": [
    {
     "name": "stdout",
     "output_type": "stream",
     "text": [
      "Epoch 1/4\n",
      "\u001b[1m196/196\u001b[0m \u001b[32m━━━━━━━━━━━━━━━━━━━━\u001b[0m\u001b[37m\u001b[0m \u001b[1m131s\u001b[0m 655ms/step - accuracy: 0.6840 - loss: 0.5620 - val_accuracy: 0.8648 - val_loss: 0.3259\n",
      "Epoch 2/4\n",
      "\u001b[1m196/196\u001b[0m \u001b[32m━━━━━━━━━━━━━━━━━━━━\u001b[0m\u001b[37m\u001b[0m \u001b[1m127s\u001b[0m 647ms/step - accuracy: 0.8877 - loss: 0.2859 - val_accuracy: 0.8664 - val_loss: 0.3222\n",
      "Epoch 3/4\n",
      "\u001b[1m196/196\u001b[0m \u001b[32m━━━━━━━━━━━━━━━━━━━━\u001b[0m\u001b[37m\u001b[0m \u001b[1m129s\u001b[0m 661ms/step - accuracy: 0.9106 - loss: 0.2348 - val_accuracy: 0.8558 - val_loss: 0.4335\n",
      "Epoch 4/4\n",
      "\u001b[1m196/196\u001b[0m \u001b[32m━━━━━━━━━━━━━━━━━━━━\u001b[0m\u001b[37m\u001b[0m \u001b[1m130s\u001b[0m 663ms/step - accuracy: 0.9263 - loss: 0.1997 - val_accuracy: 0.8613 - val_loss: 0.4125\n"
     ]
    },
    {
     "data": {
      "text/plain": [
       "<keras.src.callbacks.history.History at 0x1df33a33620>"
      ]
     },
     "execution_count": 64,
     "metadata": {},
     "output_type": "execute_result"
    }
   ],
   "source": [
    "model.fit(x_train, y_train,\n",
    "          batch_size=batch_size,\n",
    "          epochs=4,\n",
    "          validation_data=[x_test, y_test])"
   ]
  },
  {
   "cell_type": "code",
   "execution_count": 66,
   "metadata": {},
   "outputs": [
    {
     "data": {
      "text/html": [
       "<pre style=\"white-space:pre;overflow-x:auto;line-height:normal;font-family:Menlo,'DejaVu Sans Mono',consolas,'Courier New',monospace\"><span style=\"font-weight: bold\">Model: \"sequential_11\"</span>\n",
       "</pre>\n"
      ],
      "text/plain": [
       "\u001b[1mModel: \"sequential_11\"\u001b[0m\n"
      ]
     },
     "metadata": {},
     "output_type": "display_data"
    },
    {
     "data": {
      "text/html": [
       "<pre style=\"white-space:pre;overflow-x:auto;line-height:normal;font-family:Menlo,'DejaVu Sans Mono',consolas,'Courier New',monospace\">┏━━━━━━━━━━━━━━━━━━━━━━━━━━━━━━━━━┳━━━━━━━━━━━━━━━━━━━━━━━━┳━━━━━━━━━━━━━━━┓\n",
       "┃<span style=\"font-weight: bold\"> Layer (type)                    </span>┃<span style=\"font-weight: bold\"> Output Shape           </span>┃<span style=\"font-weight: bold\">       Param # </span>┃\n",
       "┡━━━━━━━━━━━━━━━━━━━━━━━━━━━━━━━━━╇━━━━━━━━━━━━━━━━━━━━━━━━╇━━━━━━━━━━━━━━━┩\n",
       "│ embedding_22 (<span style=\"color: #0087ff; text-decoration-color: #0087ff\">Embedding</span>)        │ (<span style=\"color: #00d7ff; text-decoration-color: #00d7ff\">None</span>, <span style=\"color: #00af00; text-decoration-color: #00af00\">200</span>, <span style=\"color: #00af00; text-decoration-color: #00af00\">128</span>)       │     <span style=\"color: #00af00; text-decoration-color: #00af00\">1,280,000</span> │\n",
       "├─────────────────────────────────┼────────────────────────┼───────────────┤\n",
       "│ bidirectional_3 (<span style=\"color: #0087ff; text-decoration-color: #0087ff\">Bidirectional</span>) │ (<span style=\"color: #00d7ff; text-decoration-color: #00d7ff\">None</span>, <span style=\"color: #00af00; text-decoration-color: #00af00\">128</span>)            │        <span style=\"color: #00af00; text-decoration-color: #00af00\">98,816</span> │\n",
       "├─────────────────────────────────┼────────────────────────┼───────────────┤\n",
       "│ dropout_1 (<span style=\"color: #0087ff; text-decoration-color: #0087ff\">Dropout</span>)             │ (<span style=\"color: #00d7ff; text-decoration-color: #00d7ff\">None</span>, <span style=\"color: #00af00; text-decoration-color: #00af00\">128</span>)            │             <span style=\"color: #00af00; text-decoration-color: #00af00\">0</span> │\n",
       "├─────────────────────────────────┼────────────────────────┼───────────────┤\n",
       "│ dense_15 (<span style=\"color: #0087ff; text-decoration-color: #0087ff\">Dense</span>)                │ (<span style=\"color: #00d7ff; text-decoration-color: #00d7ff\">None</span>, <span style=\"color: #00af00; text-decoration-color: #00af00\">1</span>)              │           <span style=\"color: #00af00; text-decoration-color: #00af00\">129</span> │\n",
       "└─────────────────────────────────┴────────────────────────┴───────────────┘\n",
       "</pre>\n"
      ],
      "text/plain": [
       "┏━━━━━━━━━━━━━━━━━━━━━━━━━━━━━━━━━┳━━━━━━━━━━━━━━━━━━━━━━━━┳━━━━━━━━━━━━━━━┓\n",
       "┃\u001b[1m \u001b[0m\u001b[1mLayer (type)                   \u001b[0m\u001b[1m \u001b[0m┃\u001b[1m \u001b[0m\u001b[1mOutput Shape          \u001b[0m\u001b[1m \u001b[0m┃\u001b[1m \u001b[0m\u001b[1m      Param #\u001b[0m\u001b[1m \u001b[0m┃\n",
       "┡━━━━━━━━━━━━━━━━━━━━━━━━━━━━━━━━━╇━━━━━━━━━━━━━━━━━━━━━━━━╇━━━━━━━━━━━━━━━┩\n",
       "│ embedding_22 (\u001b[38;5;33mEmbedding\u001b[0m)        │ (\u001b[38;5;45mNone\u001b[0m, \u001b[38;5;34m200\u001b[0m, \u001b[38;5;34m128\u001b[0m)       │     \u001b[38;5;34m1,280,000\u001b[0m │\n",
       "├─────────────────────────────────┼────────────────────────┼───────────────┤\n",
       "│ bidirectional_3 (\u001b[38;5;33mBidirectional\u001b[0m) │ (\u001b[38;5;45mNone\u001b[0m, \u001b[38;5;34m128\u001b[0m)            │        \u001b[38;5;34m98,816\u001b[0m │\n",
       "├─────────────────────────────────┼────────────────────────┼───────────────┤\n",
       "│ dropout_1 (\u001b[38;5;33mDropout\u001b[0m)             │ (\u001b[38;5;45mNone\u001b[0m, \u001b[38;5;34m128\u001b[0m)            │             \u001b[38;5;34m0\u001b[0m │\n",
       "├─────────────────────────────────┼────────────────────────┼───────────────┤\n",
       "│ dense_15 (\u001b[38;5;33mDense\u001b[0m)                │ (\u001b[38;5;45mNone\u001b[0m, \u001b[38;5;34m1\u001b[0m)              │           \u001b[38;5;34m129\u001b[0m │\n",
       "└─────────────────────────────────┴────────────────────────┴───────────────┘\n"
      ]
     },
     "metadata": {},
     "output_type": "display_data"
    },
    {
     "data": {
      "text/html": [
       "<pre style=\"white-space:pre;overflow-x:auto;line-height:normal;font-family:Menlo,'DejaVu Sans Mono',consolas,'Courier New',monospace\"><span style=\"font-weight: bold\"> Total params: </span><span style=\"color: #00af00; text-decoration-color: #00af00\">4,136,837</span> (15.78 MB)\n",
       "</pre>\n"
      ],
      "text/plain": [
       "\u001b[1m Total params: \u001b[0m\u001b[38;5;34m4,136,837\u001b[0m (15.78 MB)\n"
      ]
     },
     "metadata": {},
     "output_type": "display_data"
    },
    {
     "data": {
      "text/html": [
       "<pre style=\"white-space:pre;overflow-x:auto;line-height:normal;font-family:Menlo,'DejaVu Sans Mono',consolas,'Courier New',monospace\"><span style=\"font-weight: bold\"> Trainable params: </span><span style=\"color: #00af00; text-decoration-color: #00af00\">1,378,945</span> (5.26 MB)\n",
       "</pre>\n"
      ],
      "text/plain": [
       "\u001b[1m Trainable params: \u001b[0m\u001b[38;5;34m1,378,945\u001b[0m (5.26 MB)\n"
      ]
     },
     "metadata": {},
     "output_type": "display_data"
    },
    {
     "data": {
      "text/html": [
       "<pre style=\"white-space:pre;overflow-x:auto;line-height:normal;font-family:Menlo,'DejaVu Sans Mono',consolas,'Courier New',monospace\"><span style=\"font-weight: bold\"> Non-trainable params: </span><span style=\"color: #00af00; text-decoration-color: #00af00\">0</span> (0.00 B)\n",
       "</pre>\n"
      ],
      "text/plain": [
       "\u001b[1m Non-trainable params: \u001b[0m\u001b[38;5;34m0\u001b[0m (0.00 B)\n"
      ]
     },
     "metadata": {},
     "output_type": "display_data"
    },
    {
     "data": {
      "text/html": [
       "<pre style=\"white-space:pre;overflow-x:auto;line-height:normal;font-family:Menlo,'DejaVu Sans Mono',consolas,'Courier New',monospace\"><span style=\"font-weight: bold\"> Optimizer params: </span><span style=\"color: #00af00; text-decoration-color: #00af00\">2,757,892</span> (10.52 MB)\n",
       "</pre>\n"
      ],
      "text/plain": [
       "\u001b[1m Optimizer params: \u001b[0m\u001b[38;5;34m2,757,892\u001b[0m (10.52 MB)\n"
      ]
     },
     "metadata": {},
     "output_type": "display_data"
    }
   ],
   "source": [
    "model.summary()"
   ]
  },
  {
   "cell_type": "code",
   "execution_count": 65,
   "metadata": {},
   "outputs": [
    {
     "name": "stdout",
     "output_type": "stream",
     "text": [
      "\u001b[1m66/66\u001b[0m \u001b[32m━━━━━━━━━━━━━━━━━━━━\u001b[0m\u001b[37m\u001b[0m \u001b[1m11s\u001b[0m 162ms/step - accuracy: 0.9553 - loss: 0.1242\n",
      "Training accuracy :  ['loss', 'compile_metrics'] 0.9541599750518799\n",
      "Training loss : ['loss', 'compile_metrics'] 0.12360042333602905\n",
      "\u001b[1m66/66\u001b[0m \u001b[32m━━━━━━━━━━━━━━━━━━━━\u001b[0m\u001b[37m\u001b[0m \u001b[1m11s\u001b[0m 163ms/step - accuracy: 0.8622 - loss: 0.4101\n",
      "Training accuracy :  ['loss', 'compile_metrics'] 0.8612800240516663\n",
      "Training loss : ['loss', 'compile_metrics'] 0.4124910235404968\n"
     ]
    }
   ],
   "source": [
    "loss, acc = model.evaluate(x_train, y_train, batch_size=384, verbose=1)\n",
    "print('Training accuracy : ', model.metrics_names, acc)\n",
    "print('Training loss :', model.metrics_names, loss)\n",
    "loss, acc = model.evaluate(x_test, y_test, batch_size=384, verbose=1)\n",
    "print('Training accuracy : ', model.metrics_names, acc)\n",
    "print('Training loss :', model.metrics_names, loss)\n"
   ]
  },
  {
   "cell_type": "code",
   "execution_count": null,
   "metadata": {},
   "outputs": [],
   "source": []
  },
  {
   "cell_type": "code",
   "execution_count": null,
   "metadata": {},
   "outputs": [],
   "source": []
  },
  {
   "cell_type": "code",
   "execution_count": null,
   "metadata": {},
   "outputs": [],
   "source": []
  },
  {
   "cell_type": "code",
   "execution_count": null,
   "metadata": {},
   "outputs": [],
   "source": []
  },
  {
   "cell_type": "code",
   "execution_count": null,
   "metadata": {},
   "outputs": [],
   "source": []
  }
 ],
 "metadata": {
  "kernelspec": {
   "display_name": "venv",
   "language": "python",
   "name": "python3"
  },
  "language_info": {
   "codemirror_mode": {
    "name": "ipython",
    "version": 3
   },
   "file_extension": ".py",
   "mimetype": "text/x-python",
   "name": "python",
   "nbconvert_exporter": "python",
   "pygments_lexer": "ipython3",
   "version": "3.12.8"
  }
 },
 "nbformat": 4,
 "nbformat_minor": 2
}
