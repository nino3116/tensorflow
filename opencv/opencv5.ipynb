{
 "cells": [
  {
   "cell_type": "code",
   "execution_count": 3,
   "metadata": {},
   "outputs": [],
   "source": [
    "import cv2 as cv\n",
    "import numpy as np"
   ]
  },
  {
   "cell_type": "code",
   "execution_count": 6,
   "metadata": {},
   "outputs": [],
   "source": [
    "# SIFT 특징점 검출\n",
    "\n",
    "img = cv.imread('./opencv_data/mot_color70.jpg') # 이미지 읽기\n",
    "\n",
    "# gray 영상으로 변환\n",
    "gray = cv.cvtColor(img, cv.COLOR_BGR2GRAY)\n",
    "\n",
    "# SIFT 적용\n",
    "sift = cv.SIFT_create()\n",
    "kp, des = sift.detectAndCompute(gray, None)\n",
    "\n",
    "gray = cv.drawKeypoints(gray, kp, None, flags=cv.DRAW_MATCHES_FLAGS_DRAW_RICH_KEYPOINTS)\n",
    "\n",
    "cv.imshow('shif 전 gray : ', gray)\n",
    "\n",
    "cv.waitKey()\n",
    "cv.destroyAllWindows()"
   ]
  },
  {
   "cell_type": "code",
   "execution_count": 1,
   "metadata": {},
   "outputs": [
    {
     "name": "stdout",
     "output_type": "stream",
     "text": [
      "Collecting opencv-python\n",
      "  Using cached opencv_python-4.11.0.86-cp37-abi3-win_amd64.whl.metadata (20 kB)\n",
      "Collecting numpy>=1.21.2 (from opencv-python)\n",
      "  Downloading numpy-2.2.3-cp312-cp312-win_amd64.whl.metadata (60 kB)\n",
      "Using cached opencv_python-4.11.0.86-cp37-abi3-win_amd64.whl (39.5 MB)\n",
      "Downloading numpy-2.2.3-cp312-cp312-win_amd64.whl (12.6 MB)\n",
      "   ---------------------------------------- 0.0/12.6 MB ? eta -:--:--\n",
      "   ---------------------- ----------------- 7.1/12.6 MB 33.4 MB/s eta 0:00:01\n",
      "   ---------------------------------------- 12.6/12.6 MB 33.0 MB/s eta 0:00:00\n",
      "Installing collected packages: numpy, opencv-python\n",
      "  Attempting uninstall: numpy\n",
      "    Found existing installation: numpy 2.0.2\n",
      "    Uninstalling numpy-2.0.2:\n",
      "      Successfully uninstalled numpy-2.0.2\n",
      "  Attempting uninstall: opencv-python\n",
      "    Found existing installation: opencv-python 4.11.0.86\n",
      "    Uninstalling opencv-python-4.11.0.86:\n",
      "      Successfully uninstalled opencv-python-4.11.0.86\n",
      "Successfully installed numpy-2.2.3 opencv-python-4.11.0.86\n",
      "Note: you may need to restart the kernel to use updated packages.\n"
     ]
    },
    {
     "name": "stderr",
     "output_type": "stream",
     "text": [
      "ERROR: pip's dependency resolver does not currently take into account all the packages that are installed. This behaviour is the source of the following dependency conflicts.\n",
      "tensorflow-intel 2.18.0 requires numpy<2.1.0,>=1.26.0, but you have numpy 2.2.3 which is incompatible.\n",
      "\n",
      "[notice] A new release of pip is available: 24.3.1 -> 25.0.1\n",
      "[notice] To update, run: python.exe -m pip install --upgrade pip\n"
     ]
    }
   ],
   "source": [
    "%pip install opencv-python -U --force-reinstall"
   ]
  },
  {
   "cell_type": "code",
   "execution_count": 13,
   "metadata": {},
   "outputs": [],
   "source": [
    "# SIFT 특징점 검출2\n",
    "\n",
    "img = cv.imread('./opencv_data/mot_color70.jpg') # 이미지 읽기\n",
    "img2 = cv.imread('./opencv_data/mot_color83.jpg') # 이미지 읽기\n",
    "\n",
    "# gray 영상으로 변환\n",
    "gray = cv.cvtColor(img, cv.COLOR_BGR2GRAY)\n",
    "gray2 = cv.cvtColor(img2, cv.COLOR_BGR2GRAY)\n",
    "\n",
    "# SIFT 적용\n",
    "sift = cv.SIFT_create()\n",
    "kp, des = sift.detectAndCompute(gray, None)\n",
    "kp2, des2 = sift.detectAndCompute(gray2, None)\n",
    "\n",
    "gray = cv.drawKeypoints(gray, kp, None, flags=cv.DRAW_MATCHES_FLAGS_DRAW_RICH_KEYPOINTS)\n",
    "gray2 = cv.drawKeypoints(gray2, kp2, None, flags=cv.DRAW_MATCHES_FLAGS_DRAW_RICH_KEYPOINTS)\n",
    "\n",
    "cv.imshow('shit : ', gray)\n",
    "cv.imshow('shit2 : ', gray2)\n",
    "\n",
    "cv.waitKey()\n",
    "cv.destroyAllWindows()"
   ]
  },
  {
   "cell_type": "code",
   "execution_count": 28,
   "metadata": {},
   "outputs": [
    {
     "name": "stdout",
     "output_type": "stream",
     "text": [
      "특징점 개수: 231 4096\n",
      "매칭에 걸린 시간: 0.04218411445617676\n"
     ]
    }
   ],
   "source": [
    "import cv2 as cv\n",
    "import numpy as np\n",
    "import time\n",
    "\n",
    "# 이미지 로드\n",
    "img1=cv.imread('./opencv_data/mot_color70.jpg')[190:350,440:560] # 버스를 크롭하여 모델 영상으로 사용\n",
    "gray1=cv.cvtColor(img1,cv.COLOR_BGR2GRAY)\n",
    "img2=cv.imread('./opencv_data/mot_color83.jpg')              # 장면 영상\n",
    "gray2=cv.cvtColor(img2,cv.COLOR_BGR2GRAY)\n",
    "\n",
    "sift=cv.SIFT_create()\n",
    "kp1,des1=sift.detectAndCompute(gray1,None)\n",
    "kp2,des2=sift.detectAndCompute(gray2,None)\n",
    "print('특징점 개수:',len(kp1),len(kp2)) \n",
    "\n",
    "start=time.time()   # 시간 측정\n",
    "# flann 매칭 알고리즘 사용\n",
    "flann_matcher=cv.DescriptorMatcher_create(cv.DescriptorMatcher_FLANNBASED)\n",
    "knn_match=flann_matcher.knnMatch(des1,des2,2)\n",
    "\n",
    "# 임계값 지정\n",
    "T=0.7\n",
    "good_match=[]\n",
    "for nearest1,nearest2 in knn_match:\n",
    "    if (nearest1.distance/nearest2.distance)<T:\n",
    "        good_match.append(nearest1)\n",
    "print('매칭에 걸린 시간:',time.time()-start) \n",
    "\n",
    "img_match=np.empty((max(img1.shape[0],img2.shape[0]),img1.shape[1]+img2.shape[1],3),dtype=np.uint8)\n",
    "cv.drawMatches(img1,kp1,img2,kp2,good_match,img_match,flags=cv.DrawMatchesFlags_NOT_DRAW_SINGLE_POINTS)\n",
    "\n",
    "cv.imshow('Good Matches', img_match)\n",
    "\n",
    "k=cv.waitKey()\n",
    "cv.destroyAllWindows()"
   ]
  },
  {
   "cell_type": "code",
   "execution_count": 49,
   "metadata": {},
   "outputs": [],
   "source": [
    "import cv2 as cv\n",
    "import numpy as np\n",
    "\n",
    "img1=cv.imread('./opencv_data/mot_color70.jpg')[190:350,440:560] # 버스를 크롭하여 모델 영상으로 사용\n",
    "gray1=cv.cvtColor(img1,cv.COLOR_BGR2GRAY)\n",
    "img2=cv.imread('./opencv_data/mot_color83.jpg')\t\t\t     # 장면 영상\n",
    "gray2=cv.cvtColor(img2,cv.COLOR_BGR2GRAY)\n",
    "\n",
    "# SIFT 작업 진행\n",
    "sift=cv.SIFT_create()\n",
    "kp1,des1=sift.detectAndCompute(gray1,None)\n",
    "kp2,des2=sift.detectAndCompute(gray2,None)\n",
    "\n",
    "# 매처를 이용하여 맵핑\n",
    "flann_matcher=cv.DescriptorMatcher_create(cv.DescriptorMatcher_FLANNBASED)\n",
    "# knnMatch() 함수는 각 특징점에 대해 가장 가까운 k개의 특징점을 찾아줌\n",
    "knn_match=flann_matcher.knnMatch(des1,des2,2)\t# 최근접 2개\n",
    "\n",
    "# 임계값 설정\n",
    "T=0.7\n",
    "good_match=[]\n",
    "for nearest1,nearest2 in knn_match:\n",
    "    if (nearest1.distance/nearest2.distance)<T:\n",
    "        good_match.append(nearest1)\n",
    "\n",
    "# 호모그래피 행렬을 위한 작업\n",
    "points1=np.float32([kp1[gm.queryIdx].pt for gm in good_match])\n",
    "points2=np.float32([kp2[gm.trainIdx].pt for gm in good_match])\n",
    "# RANSAC 방법으로 호모그래피 행렬 계산\n",
    "H,_=cv.findHomography(points1,points2,cv.RANSAC)\n",
    "\n",
    "h1,w1=img1.shape[0],img1.shape[1] \t\t# 첫 번째 영상의 크기\n",
    "h2,w2=img2.shape[0],img2.shape[1] \t\t# 두 번째 영상의 크기\n",
    "\n",
    "# box1은 버스 이미지 크기의 박스\n",
    "box1=np.float32([[0,0],[0,h1-1],[w1-1,h1-1],[w1-1,0]]).reshape(4,1,2)\n",
    "box2=cv.perspectiveTransform(box1,H)\n",
    "\n",
    "# 위에서 얻어진 값을 통해서 img2에 박스를 그림\n",
    "img2=cv.polylines(img2,[np.int32(box2)],True,(0,255,0),6)\n",
    "\n",
    "img_match=np.empty((max(h1,h2),w1+w2,3),dtype=np.uint8)\n",
    "cv.drawMatches(img1,kp1,img2,kp2,good_match,img_match,flags=cv.DrawMatchesFlags_NOT_DRAW_SINGLE_POINTS)\n",
    "   \n",
    "cv.imshow('Matches and Homography',img_match)\n",
    "\n",
    "k=cv.waitKey()\n",
    "cv.destroyAllWindows()"
   ]
  },
  {
   "cell_type": "code",
   "execution_count": 1,
   "metadata": {},
   "outputs": [
    {
     "name": "stdout",
     "output_type": "stream",
     "text": [
      "Collecting pyQt5\n",
      "  Downloading PyQt5-5.15.11-cp38-abi3-win_amd64.whl.metadata (2.1 kB)\n",
      "Collecting PyQt5-sip<13,>=12.15 (from pyQt5)\n",
      "  Downloading PyQt5_sip-12.17.0-cp312-cp312-win_amd64.whl.metadata (492 bytes)\n",
      "Collecting PyQt5-Qt5<5.16.0,>=5.15.2 (from pyQt5)\n",
      "  Downloading PyQt5_Qt5-5.15.2-py3-none-win_amd64.whl.metadata (552 bytes)\n",
      "Downloading PyQt5-5.15.11-cp38-abi3-win_amd64.whl (6.9 MB)\n",
      "   ---------------------------------------- 0.0/6.9 MB ? eta -:--:--\n",
      "   ---------------------------------------- 6.9/6.9 MB 42.3 MB/s eta 0:00:00\n",
      "Downloading PyQt5_Qt5-5.15.2-py3-none-win_amd64.whl (50.1 MB)\n",
      "   ---------------------------------------- 0.0/50.1 MB ? eta -:--:--\n",
      "   -------- ------------------------------- 10.5/50.1 MB 131.1 MB/s eta 0:00:01\n",
      "   --------- ------------------------------ 11.5/50.1 MB 27.8 MB/s eta 0:00:02\n",
      "   ----------------- ---------------------- 22.0/50.1 MB 34.8 MB/s eta 0:00:01\n",
      "   --------------------- ------------------ 26.7/50.1 MB 32.0 MB/s eta 0:00:01\n",
      "   ---------------------- ----------------- 28.3/50.1 MB 33.2 MB/s eta 0:00:01\n",
      "   ---------------------------------- ----- 43.0/50.1 MB 35.1 MB/s eta 0:00:01\n",
      "   ------------------------------------- -- 46.9/50.1 MB 32.8 MB/s eta 0:00:01\n",
      "   ---------------------------------------- 50.1/50.1 MB 30.7 MB/s eta 0:00:00\n",
      "Downloading PyQt5_sip-12.17.0-cp312-cp312-win_amd64.whl (58 kB)\n",
      "Installing collected packages: PyQt5-Qt5, PyQt5-sip, pyQt5\n",
      "Successfully installed PyQt5-Qt5-5.15.2 PyQt5-sip-12.17.0 pyQt5-5.15.11\n",
      "Note: you may need to restart the kernel to use updated packages.\n"
     ]
    },
    {
     "name": "stderr",
     "output_type": "stream",
     "text": [
      "\n",
      "[notice] A new release of pip is available: 24.3.1 -> 25.0.1\n",
      "[notice] To update, run: python.exe -m pip install --upgrade pip\n"
     ]
    }
   ],
   "source": [
    "%pip install pyQt5"
   ]
  },
  {
   "cell_type": "code",
   "execution_count": null,
   "metadata": {},
   "outputs": [],
   "source": []
  },
  {
   "cell_type": "code",
   "execution_count": null,
   "metadata": {},
   "outputs": [],
   "source": []
  },
  {
   "cell_type": "code",
   "execution_count": null,
   "metadata": {},
   "outputs": [],
   "source": []
  },
  {
   "cell_type": "code",
   "execution_count": null,
   "metadata": {},
   "outputs": [],
   "source": []
  },
  {
   "cell_type": "code",
   "execution_count": null,
   "metadata": {},
   "outputs": [],
   "source": []
  },
  {
   "cell_type": "code",
   "execution_count": null,
   "metadata": {},
   "outputs": [],
   "source": []
  },
  {
   "cell_type": "code",
   "execution_count": null,
   "metadata": {},
   "outputs": [],
   "source": []
  },
  {
   "cell_type": "code",
   "execution_count": null,
   "metadata": {},
   "outputs": [],
   "source": []
  },
  {
   "cell_type": "code",
   "execution_count": null,
   "metadata": {},
   "outputs": [],
   "source": []
  },
  {
   "cell_type": "code",
   "execution_count": null,
   "metadata": {},
   "outputs": [],
   "source": []
  },
  {
   "cell_type": "code",
   "execution_count": null,
   "metadata": {},
   "outputs": [],
   "source": []
  },
  {
   "cell_type": "code",
   "execution_count": null,
   "metadata": {},
   "outputs": [],
   "source": []
  },
  {
   "cell_type": "code",
   "execution_count": null,
   "metadata": {},
   "outputs": [],
   "source": []
  },
  {
   "cell_type": "code",
   "execution_count": null,
   "metadata": {},
   "outputs": [],
   "source": []
  },
  {
   "cell_type": "code",
   "execution_count": null,
   "metadata": {},
   "outputs": [],
   "source": []
  }
 ],
 "metadata": {
  "kernelspec": {
   "display_name": "venv",
   "language": "python",
   "name": "python3"
  },
  "language_info": {
   "codemirror_mode": {
    "name": "ipython",
    "version": 3
   },
   "file_extension": ".py",
   "mimetype": "text/x-python",
   "name": "python",
   "nbconvert_exporter": "python",
   "pygments_lexer": "ipython3",
   "version": "3.12.8"
  }
 },
 "nbformat": 4,
 "nbformat_minor": 2
}
