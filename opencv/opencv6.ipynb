{
 "cells": [
  {
   "cell_type": "code",
   "execution_count": null,
   "metadata": {},
   "outputs": [],
   "source": [
    "# 파이썬으로 만드는 나만의 GUI 프로그램\n",
    "%pip install pyQt5"
   ]
  },
  {
   "cell_type": "code",
   "execution_count": 1,
   "metadata": {},
   "outputs": [
    {
     "data": {
      "text/plain": [
       "0"
      ]
     },
     "execution_count": 1,
     "metadata": {},
     "output_type": "execute_result"
    }
   ],
   "source": [
    "#비프음 소리 출력 GUI\n",
    "\n",
    "from PyQt5.QtWidgets import *\n",
    "import sys\n",
    "import winsound\n",
    "\n",
    "class BeepSound(QMainWindow):\n",
    "    def __init__(self):\n",
    "        super().__init__()\n",
    "        # 윈도우 이름과 위치 지정\n",
    "        self.setWindowTitle('비프음 소리 출력')\n",
    "        self.setGeometry(200,200,500,100)\n",
    "        \n",
    "        shortBeepButton = QPushButton('짧은 비프음', self) # 버튼 생성\n",
    "        longBeepButton = QPushButton('긴 비프음', self) # 버튼 생성\n",
    "        quitButton = QPushButton('종료', self) # 버튼 생성\n",
    "        self.label = QLabel('환영합니다.', self) # 라벨 생성\n",
    "        \n",
    "        # 버튼 위치 지정\n",
    "        shortBeepButton.setGeometry(10,10,100,30)\n",
    "        longBeepButton.setGeometry(110,10,100,30)\n",
    "        quitButton.setGeometry(210,10,100,30)\n",
    "        self.label.setGeometry(10,40,500,70)\n",
    "        \n",
    "        # 콜백 함수 지정\n",
    "        shortBeepButton.clicked.connect(self.shortBeepFunction)\n",
    "        longBeepButton.clicked.connect(self.longBeepFunction)\n",
    "        quitButton.clicked.connect(self.quitFunction)\n",
    "        \n",
    "    def shortBeepFunction(self):\n",
    "        self.label.setText('주파수 1000으로 0.5초 삑 소리를 냅니다.')\n",
    "        winsound.Beep(1000,500)\n",
    "    def longBeepFunction(self):\n",
    "        self.label.setText('주파수 1000으로 3초 삑 소리를 냅니다.')\n",
    "        winsound.Beep(1000,3000)\n",
    "    def quitFunction(self):\n",
    "        self.close()    \n",
    "        \n",
    "app = QApplication(sys.argv)\n",
    "win = BeepSound()\n",
    "win.show()\n",
    "app.exec_()"
   ]
  },
  {
   "cell_type": "code",
   "execution_count": null,
   "metadata": {},
   "outputs": [],
   "source": []
  },
  {
   "cell_type": "code",
   "execution_count": null,
   "metadata": {},
   "outputs": [],
   "source": []
  },
  {
   "cell_type": "code",
   "execution_count": null,
   "metadata": {},
   "outputs": [],
   "source": []
  },
  {
   "cell_type": "code",
   "execution_count": null,
   "metadata": {},
   "outputs": [],
   "source": []
  },
  {
   "cell_type": "code",
   "execution_count": null,
   "metadata": {},
   "outputs": [],
   "source": []
  }
 ],
 "metadata": {
  "kernelspec": {
   "display_name": "venv",
   "language": "python",
   "name": "python3"
  },
  "language_info": {
   "codemirror_mode": {
    "name": "ipython",
    "version": 3
   },
   "file_extension": ".py",
   "mimetype": "text/x-python",
   "name": "python",
   "nbconvert_exporter": "python",
   "pygments_lexer": "ipython3",
   "version": "3.12.8"
  }
 },
 "nbformat": 4,
 "nbformat_minor": 2
}
