{
 "cells": [
  {
   "cell_type": "code",
   "execution_count": 1,
   "metadata": {},
   "outputs": [
    {
     "name": "stdout",
     "output_type": "stream",
     "text": [
      "Python\n"
     ]
    }
   ],
   "source": [
    "print('Python')"
   ]
  },
  {
   "cell_type": "code",
   "execution_count": 2,
   "metadata": {},
   "outputs": [
    {
     "name": "stdout",
     "output_type": "stream",
     "text": [
      "Collecting tensorflow\n",
      "  Downloading tensorflow-2.18.0-cp312-cp312-win_amd64.whl.metadata (3.3 kB)\n",
      "Collecting tensorflow-intel==2.18.0 (from tensorflow)\n",
      "  Downloading tensorflow_intel-2.18.0-cp312-cp312-win_amd64.whl.metadata (4.9 kB)\n",
      "Collecting absl-py>=1.0.0 (from tensorflow-intel==2.18.0->tensorflow)\n",
      "  Downloading absl_py-2.1.0-py3-none-any.whl.metadata (2.3 kB)\n",
      "Collecting astunparse>=1.6.0 (from tensorflow-intel==2.18.0->tensorflow)\n",
      "  Downloading astunparse-1.6.3-py2.py3-none-any.whl.metadata (4.4 kB)\n",
      "Collecting flatbuffers>=24.3.25 (from tensorflow-intel==2.18.0->tensorflow)\n",
      "  Downloading flatbuffers-24.12.23-py2.py3-none-any.whl.metadata (876 bytes)\n",
      "Collecting gast!=0.5.0,!=0.5.1,!=0.5.2,>=0.2.1 (from tensorflow-intel==2.18.0->tensorflow)\n",
      "  Downloading gast-0.6.0-py3-none-any.whl.metadata (1.3 kB)\n",
      "Collecting google-pasta>=0.1.1 (from tensorflow-intel==2.18.0->tensorflow)\n",
      "  Downloading google_pasta-0.2.0-py3-none-any.whl.metadata (814 bytes)\n",
      "Collecting libclang>=13.0.0 (from tensorflow-intel==2.18.0->tensorflow)\n",
      "  Downloading libclang-18.1.1-py2.py3-none-win_amd64.whl.metadata (5.3 kB)\n",
      "Collecting opt-einsum>=2.3.2 (from tensorflow-intel==2.18.0->tensorflow)\n",
      "  Downloading opt_einsum-3.4.0-py3-none-any.whl.metadata (6.3 kB)\n",
      "Requirement already satisfied: packaging in .\\venv\\lib\\site-packages (from tensorflow-intel==2.18.0->tensorflow) (24.2)\n",
      "Collecting protobuf!=4.21.0,!=4.21.1,!=4.21.2,!=4.21.3,!=4.21.4,!=4.21.5,<6.0.0dev,>=3.20.3 (from tensorflow-intel==2.18.0->tensorflow)\n",
      "  Downloading protobuf-5.29.3-cp310-abi3-win_amd64.whl.metadata (592 bytes)\n",
      "Collecting requests<3,>=2.21.0 (from tensorflow-intel==2.18.0->tensorflow)\n",
      "  Downloading requests-2.32.3-py3-none-any.whl.metadata (4.6 kB)\n",
      "Collecting setuptools (from tensorflow-intel==2.18.0->tensorflow)\n",
      "  Downloading setuptools-75.8.0-py3-none-any.whl.metadata (6.7 kB)\n",
      "Requirement already satisfied: six>=1.12.0 in .\\venv\\lib\\site-packages (from tensorflow-intel==2.18.0->tensorflow) (1.17.0)\n",
      "Collecting termcolor>=1.1.0 (from tensorflow-intel==2.18.0->tensorflow)\n",
      "  Downloading termcolor-2.5.0-py3-none-any.whl.metadata (6.1 kB)\n",
      "Collecting typing-extensions>=3.6.6 (from tensorflow-intel==2.18.0->tensorflow)\n",
      "  Using cached typing_extensions-4.12.2-py3-none-any.whl.metadata (3.0 kB)\n",
      "Collecting wrapt>=1.11.0 (from tensorflow-intel==2.18.0->tensorflow)\n",
      "  Downloading wrapt-1.17.1-cp312-cp312-win_amd64.whl.metadata (6.5 kB)\n",
      "Collecting grpcio<2.0,>=1.24.3 (from tensorflow-intel==2.18.0->tensorflow)\n",
      "  Downloading grpcio-1.69.0-cp312-cp312-win_amd64.whl.metadata (4.0 kB)\n",
      "Collecting tensorboard<2.19,>=2.18 (from tensorflow-intel==2.18.0->tensorflow)\n",
      "  Downloading tensorboard-2.18.0-py3-none-any.whl.metadata (1.6 kB)\n",
      "Collecting keras>=3.5.0 (from tensorflow-intel==2.18.0->tensorflow)\n",
      "  Downloading keras-3.8.0-py3-none-any.whl.metadata (5.8 kB)\n",
      "Collecting numpy<2.1.0,>=1.26.0 (from tensorflow-intel==2.18.0->tensorflow)\n",
      "  Downloading numpy-2.0.2-cp312-cp312-win_amd64.whl.metadata (59 kB)\n",
      "Collecting h5py>=3.11.0 (from tensorflow-intel==2.18.0->tensorflow)\n",
      "  Downloading h5py-3.12.1-cp312-cp312-win_amd64.whl.metadata (2.5 kB)\n",
      "Collecting ml-dtypes<0.5.0,>=0.4.0 (from tensorflow-intel==2.18.0->tensorflow)\n",
      "  Downloading ml_dtypes-0.4.1-cp312-cp312-win_amd64.whl.metadata (20 kB)\n",
      "Collecting wheel<1.0,>=0.23.0 (from astunparse>=1.6.0->tensorflow-intel==2.18.0->tensorflow)\n",
      "  Downloading wheel-0.45.1-py3-none-any.whl.metadata (2.3 kB)\n",
      "Collecting rich (from keras>=3.5.0->tensorflow-intel==2.18.0->tensorflow)\n",
      "  Downloading rich-13.9.4-py3-none-any.whl.metadata (18 kB)\n",
      "Collecting namex (from keras>=3.5.0->tensorflow-intel==2.18.0->tensorflow)\n",
      "  Downloading namex-0.0.8-py3-none-any.whl.metadata (246 bytes)\n",
      "Collecting optree (from keras>=3.5.0->tensorflow-intel==2.18.0->tensorflow)\n",
      "  Downloading optree-0.13.1-cp312-cp312-win_amd64.whl.metadata (48 kB)\n",
      "Collecting charset-normalizer<4,>=2 (from requests<3,>=2.21.0->tensorflow-intel==2.18.0->tensorflow)\n",
      "  Downloading charset_normalizer-3.4.1-cp312-cp312-win_amd64.whl.metadata (36 kB)\n",
      "Collecting idna<4,>=2.5 (from requests<3,>=2.21.0->tensorflow-intel==2.18.0->tensorflow)\n",
      "  Using cached idna-3.10-py3-none-any.whl.metadata (10 kB)\n",
      "Collecting urllib3<3,>=1.21.1 (from requests<3,>=2.21.0->tensorflow-intel==2.18.0->tensorflow)\n",
      "  Downloading urllib3-2.3.0-py3-none-any.whl.metadata (6.5 kB)\n",
      "Collecting certifi>=2017.4.17 (from requests<3,>=2.21.0->tensorflow-intel==2.18.0->tensorflow)\n",
      "  Downloading certifi-2024.12.14-py3-none-any.whl.metadata (2.3 kB)\n",
      "Collecting markdown>=2.6.8 (from tensorboard<2.19,>=2.18->tensorflow-intel==2.18.0->tensorflow)\n",
      "  Downloading Markdown-3.7-py3-none-any.whl.metadata (7.0 kB)\n",
      "Collecting tensorboard-data-server<0.8.0,>=0.7.0 (from tensorboard<2.19,>=2.18->tensorflow-intel==2.18.0->tensorflow)\n",
      "  Downloading tensorboard_data_server-0.7.2-py3-none-any.whl.metadata (1.1 kB)\n",
      "Collecting werkzeug>=1.0.1 (from tensorboard<2.19,>=2.18->tensorflow-intel==2.18.0->tensorflow)\n",
      "  Using cached werkzeug-3.1.3-py3-none-any.whl.metadata (3.7 kB)\n",
      "Collecting MarkupSafe>=2.1.1 (from werkzeug>=1.0.1->tensorboard<2.19,>=2.18->tensorflow-intel==2.18.0->tensorflow)\n",
      "  Downloading MarkupSafe-3.0.2-cp312-cp312-win_amd64.whl.metadata (4.1 kB)\n",
      "Collecting markdown-it-py>=2.2.0 (from rich->keras>=3.5.0->tensorflow-intel==2.18.0->tensorflow)\n",
      "  Downloading markdown_it_py-3.0.0-py3-none-any.whl.metadata (6.9 kB)\n",
      "Requirement already satisfied: pygments<3.0.0,>=2.13.0 in .\\venv\\lib\\site-packages (from rich->keras>=3.5.0->tensorflow-intel==2.18.0->tensorflow) (2.19.1)\n",
      "Collecting mdurl~=0.1 (from markdown-it-py>=2.2.0->rich->keras>=3.5.0->tensorflow-intel==2.18.0->tensorflow)\n",
      "  Downloading mdurl-0.1.2-py3-none-any.whl.metadata (1.6 kB)\n",
      "Downloading tensorflow-2.18.0-cp312-cp312-win_amd64.whl (7.5 kB)\n",
      "Downloading tensorflow_intel-2.18.0-cp312-cp312-win_amd64.whl (390.3 MB)\n",
      "   ---------------------------------------- 0.0/390.3 MB ? eta -:--:--\n",
      "   -- ------------------------------------- 20.2/390.3 MB 97.7 MB/s eta 0:00:04\n",
      "   --- ------------------------------------ 35.9/390.3 MB 87.6 MB/s eta 0:00:05\n",
      "   ---- ----------------------------------- 45.4/390.3 MB 73.9 MB/s eta 0:00:05\n",
      "   ----- ---------------------------------- 55.1/390.3 MB 66.1 MB/s eta 0:00:06\n",
      "   ------ --------------------------------- 63.2/390.3 MB 61.0 MB/s eta 0:00:06\n",
      "   ------ --------------------------------- 67.1/390.3 MB 53.5 MB/s eta 0:00:07\n",
      "   ------- -------------------------------- 70.3/390.3 MB 48.7 MB/s eta 0:00:07\n",
      "   ------- -------------------------------- 73.7/390.3 MB 44.7 MB/s eta 0:00:08\n",
      "   -------- ------------------------------- 78.4/390.3 MB 42.0 MB/s eta 0:00:08\n",
      "   -------- ------------------------------- 81.8/390.3 MB 39.5 MB/s eta 0:00:08\n",
      "   -------- ------------------------------- 84.9/390.3 MB 37.4 MB/s eta 0:00:09\n",
      "   --------- ------------------------------ 88.1/390.3 MB 35.3 MB/s eta 0:00:09\n",
      "   --------- ------------------------------ 90.7/390.3 MB 33.6 MB/s eta 0:00:09\n",
      "   --------- ------------------------------ 94.9/390.3 MB 32.7 MB/s eta 0:00:10\n",
      "   ---------- ----------------------------- 99.6/390.3 MB 31.9 MB/s eta 0:00:10\n",
      "   ---------- ---------------------------- 103.8/390.3 MB 32.2 MB/s eta 0:00:09\n",
      "   ---------- ---------------------------- 106.4/390.3 MB 30.1 MB/s eta 0:00:10\n",
      "   ----------- --------------------------- 113.2/390.3 MB 30.3 MB/s eta 0:00:10\n",
      "   ------------ -------------------------- 121.4/390.3 MB 30.8 MB/s eta 0:00:09\n",
      "   ------------ -------------------------- 127.9/390.3 MB 30.8 MB/s eta 0:00:09\n",
      "   ------------- ------------------------- 133.4/390.3 MB 30.7 MB/s eta 0:00:09\n",
      "   ------------- ------------------------- 138.1/390.3 MB 30.3 MB/s eta 0:00:09\n",
      "   -------------- ------------------------ 142.3/390.3 MB 29.9 MB/s eta 0:00:09\n",
      "   -------------- ------------------------ 145.2/390.3 MB 29.3 MB/s eta 0:00:09\n",
      "   -------------- ------------------------ 147.6/390.3 MB 28.6 MB/s eta 0:00:09\n",
      "   --------------- ----------------------- 150.7/390.3 MB 28.1 MB/s eta 0:00:09\n",
      "   --------------- ----------------------- 155.2/390.3 MB 27.8 MB/s eta 0:00:09\n",
      "   --------------- ----------------------- 159.9/390.3 MB 27.6 MB/s eta 0:00:09\n",
      "   ---------------- ---------------------- 163.8/390.3 MB 27.3 MB/s eta 0:00:09\n",
      "   ---------------- ---------------------- 167.2/390.3 MB 27.0 MB/s eta 0:00:09\n",
      "   ---------------- ---------------------- 169.9/390.3 MB 26.5 MB/s eta 0:00:09\n",
      "   ----------------- --------------------- 172.5/390.3 MB 26.1 MB/s eta 0:00:09\n",
      "   ----------------- --------------------- 174.3/390.3 MB 25.6 MB/s eta 0:00:09\n",
      "   ----------------- --------------------- 176.2/390.3 MB 25.1 MB/s eta 0:00:09\n",
      "   ----------------- --------------------- 179.0/390.3 MB 24.8 MB/s eta 0:00:09\n",
      "   ------------------ -------------------- 182.7/390.3 MB 24.6 MB/s eta 0:00:09\n",
      "   ------------------ -------------------- 186.4/390.3 MB 24.5 MB/s eta 0:00:09\n",
      "   ------------------- ------------------- 190.6/390.3 MB 24.4 MB/s eta 0:00:09\n",
      "   ------------------- ------------------- 194.5/390.3 MB 24.2 MB/s eta 0:00:09\n",
      "   ------------------- ------------------- 197.9/390.3 MB 24.0 MB/s eta 0:00:08\n",
      "   -------------------- ------------------ 200.8/390.3 MB 23.9 MB/s eta 0:00:08\n",
      "   -------------------- ------------------ 203.9/390.3 MB 23.6 MB/s eta 0:00:08\n",
      "   -------------------- ------------------ 208.1/390.3 MB 23.5 MB/s eta 0:00:08\n",
      "   --------------------- ----------------- 212.3/390.3 MB 23.4 MB/s eta 0:00:08\n",
      "   --------------------- ----------------- 216.0/390.3 MB 23.3 MB/s eta 0:00:08\n",
      "   --------------------- ----------------- 219.4/390.3 MB 23.1 MB/s eta 0:00:08\n",
      "   ---------------------- ---------------- 225.7/390.3 MB 23.3 MB/s eta 0:00:08\n",
      "   ---------------------- ---------------- 228.9/390.3 MB 23.1 MB/s eta 0:00:07\n",
      "   ----------------------- --------------- 232.3/390.3 MB 23.0 MB/s eta 0:00:07\n",
      "   ----------------------- --------------- 235.4/390.3 MB 22.9 MB/s eta 0:00:07\n",
      "   ------------------------ -------------- 241.2/390.3 MB 22.9 MB/s eta 0:00:07\n",
      "   ------------------------ -------------- 248.3/390.3 MB 23.1 MB/s eta 0:00:07\n",
      "   ------------------------- ------------- 254.0/390.3 MB 23.2 MB/s eta 0:00:06\n",
      "   ------------------------- ------------- 256.4/390.3 MB 23.0 MB/s eta 0:00:06\n",
      "   ------------------------- ------------- 258.5/390.3 MB 22.8 MB/s eta 0:00:06\n",
      "   -------------------------- ------------ 261.1/390.3 MB 22.6 MB/s eta 0:00:06\n",
      "   -------------------------- ------------ 264.0/390.3 MB 22.3 MB/s eta 0:00:06\n",
      "   --------------------------- ----------- 270.5/390.3 MB 22.0 MB/s eta 0:00:06\n",
      "   --------------------------- ----------- 278.1/390.3 MB 21.8 MB/s eta 0:00:06\n",
      "   ---------------------------- ---------- 284.7/390.3 MB 21.5 MB/s eta 0:00:05\n",
      "   ---------------------------- ---------- 289.7/390.3 MB 21.3 MB/s eta 0:00:05\n",
      "   ----------------------------- --------- 293.6/390.3 MB 21.0 MB/s eta 0:00:05\n",
      "   ----------------------------- --------- 296.5/390.3 MB 20.7 MB/s eta 0:00:05\n",
      "   ------------------------------ -------- 301.5/390.3 MB 20.6 MB/s eta 0:00:05\n",
      "   ------------------------------ -------- 306.7/390.3 MB 20.4 MB/s eta 0:00:05\n",
      "   ------------------------------- ------- 311.2/390.3 MB 20.3 MB/s eta 0:00:04\n",
      "   ------------------------------- ------- 315.4/390.3 MB 20.1 MB/s eta 0:00:04\n",
      "   ------------------------------- ------- 319.8/390.3 MB 19.9 MB/s eta 0:00:04\n",
      "   -------------------------------- ------ 326.4/390.3 MB 19.9 MB/s eta 0:00:04\n",
      "   --------------------------------- ----- 332.7/390.3 MB 20.2 MB/s eta 0:00:03\n",
      "   --------------------------------- ----- 338.4/390.3 MB 20.4 MB/s eta 0:00:03\n",
      "   ---------------------------------- ---- 345.8/390.3 MB 20.7 MB/s eta 0:00:03\n",
      "   ----------------------------------- --- 353.6/390.3 MB 21.3 MB/s eta 0:00:02\n",
      "   ------------------------------------ -- 361.2/390.3 MB 21.5 MB/s eta 0:00:02\n",
      "   ------------------------------------ -- 368.8/390.3 MB 22.0 MB/s eta 0:00:01\n",
      "   ------------------------------------- - 377.2/390.3 MB 22.1 MB/s eta 0:00:01\n",
      "   --------------------------------------  383.5/390.3 MB 21.9 MB/s eta 0:00:01\n",
      "   --------------------------------------  390.1/390.3 MB 22.0 MB/s eta 0:00:01\n",
      "   --------------------------------------  390.1/390.3 MB 22.0 MB/s eta 0:00:01\n",
      "   --------------------------------------  390.1/390.3 MB 22.0 MB/s eta 0:00:01\n",
      "   --------------------------------------  390.1/390.3 MB 22.0 MB/s eta 0:00:01\n",
      "   --------------------------------------  390.1/390.3 MB 22.0 MB/s eta 0:00:01\n",
      "   --------------------------------------  390.1/390.3 MB 22.0 MB/s eta 0:00:01\n",
      "   --------------------------------------  390.1/390.3 MB 22.0 MB/s eta 0:00:01\n",
      "   --------------------------------------- 390.3/390.3 MB 19.8 MB/s eta 0:00:00\n",
      "Downloading absl_py-2.1.0-py3-none-any.whl (133 kB)\n",
      "Downloading astunparse-1.6.3-py2.py3-none-any.whl (12 kB)\n",
      "Downloading flatbuffers-24.12.23-py2.py3-none-any.whl (30 kB)\n",
      "Downloading gast-0.6.0-py3-none-any.whl (21 kB)\n",
      "Downloading google_pasta-0.2.0-py3-none-any.whl (57 kB)\n",
      "Downloading grpcio-1.69.0-cp312-cp312-win_amd64.whl (4.4 MB)\n",
      "   ---------------------------------------- 0.0/4.4 MB ? eta -:--:--\n",
      "   ---------------------------------------- 4.4/4.4 MB 26.5 MB/s eta 0:00:00\n",
      "Downloading h5py-3.12.1-cp312-cp312-win_amd64.whl (3.0 MB)\n",
      "   ---------------------------------------- 0.0/3.0 MB ? eta -:--:--\n",
      "   ---------------------------------------- 3.0/3.0 MB 34.6 MB/s eta 0:00:00\n",
      "Downloading keras-3.8.0-py3-none-any.whl (1.3 MB)\n",
      "   ---------------------------------------- 0.0/1.3 MB ? eta -:--:--\n",
      "   ---------------------------------------- 1.3/1.3 MB 22.1 MB/s eta 0:00:00\n",
      "Downloading libclang-18.1.1-py2.py3-none-win_amd64.whl (26.4 MB)\n",
      "   ---------------------------------------- 0.0/26.4 MB ? eta -:--:--\n",
      "   -------------- ------------------------- 9.7/26.4 MB 50.5 MB/s eta 0:00:01\n",
      "   ------------------------------ --------- 20.4/26.4 MB 51.8 MB/s eta 0:00:01\n",
      "   ---------------------------------------- 26.4/26.4 MB 44.1 MB/s eta 0:00:00\n",
      "Downloading ml_dtypes-0.4.1-cp312-cp312-win_amd64.whl (127 kB)\n",
      "Downloading numpy-2.0.2-cp312-cp312-win_amd64.whl (15.6 MB)\n",
      "   ---------------------------------------- 0.0/15.6 MB ? eta -:--:--\n",
      "   ----------------------------- ---------- 11.5/15.6 MB 65.5 MB/s eta 0:00:01\n",
      "   ---------------------------------------  15.5/15.6 MB 40.5 MB/s eta 0:00:01\n",
      "   ---------------------------------------- 15.6/15.6 MB 36.4 MB/s eta 0:00:00\n",
      "Downloading opt_einsum-3.4.0-py3-none-any.whl (71 kB)\n",
      "Downloading protobuf-5.29.3-cp310-abi3-win_amd64.whl (434 kB)\n",
      "Downloading requests-2.32.3-py3-none-any.whl (64 kB)\n",
      "Downloading tensorboard-2.18.0-py3-none-any.whl (5.5 MB)\n",
      "   ---------------------------------------- 0.0/5.5 MB ? eta -:--:--\n",
      "   ---------------------------------------- 5.5/5.5 MB 37.2 MB/s eta 0:00:00\n",
      "Downloading setuptools-75.8.0-py3-none-any.whl (1.2 MB)\n",
      "   ---------------------------------------- 0.0/1.2 MB ? eta -:--:--\n",
      "   ---------------------------------------- 1.2/1.2 MB 20.6 MB/s eta 0:00:00\n",
      "Downloading termcolor-2.5.0-py3-none-any.whl (7.8 kB)\n",
      "Using cached typing_extensions-4.12.2-py3-none-any.whl (37 kB)\n",
      "Downloading wrapt-1.17.1-cp312-cp312-win_amd64.whl (38 kB)\n",
      "Downloading certifi-2024.12.14-py3-none-any.whl (164 kB)\n",
      "Downloading charset_normalizer-3.4.1-cp312-cp312-win_amd64.whl (102 kB)\n",
      "Using cached idna-3.10-py3-none-any.whl (70 kB)\n",
      "Downloading Markdown-3.7-py3-none-any.whl (106 kB)\n",
      "Downloading tensorboard_data_server-0.7.2-py3-none-any.whl (2.4 kB)\n",
      "Downloading urllib3-2.3.0-py3-none-any.whl (128 kB)\n",
      "Using cached werkzeug-3.1.3-py3-none-any.whl (224 kB)\n",
      "Downloading wheel-0.45.1-py3-none-any.whl (72 kB)\n",
      "Downloading namex-0.0.8-py3-none-any.whl (5.8 kB)\n",
      "Downloading optree-0.13.1-cp312-cp312-win_amd64.whl (292 kB)\n",
      "Downloading rich-13.9.4-py3-none-any.whl (242 kB)\n",
      "Downloading markdown_it_py-3.0.0-py3-none-any.whl (87 kB)\n",
      "Downloading MarkupSafe-3.0.2-cp312-cp312-win_amd64.whl (15 kB)\n",
      "Downloading mdurl-0.1.2-py3-none-any.whl (10.0 kB)\n",
      "Installing collected packages: namex, libclang, flatbuffers, wrapt, wheel, urllib3, typing-extensions, termcolor, tensorboard-data-server, setuptools, protobuf, opt-einsum, numpy, mdurl, MarkupSafe, markdown, idna, grpcio, google-pasta, gast, charset-normalizer, certifi, absl-py, werkzeug, requests, optree, ml-dtypes, markdown-it-py, h5py, astunparse, tensorboard, rich, keras, tensorflow-intel, tensorflow\n",
      "Successfully installed MarkupSafe-3.0.2 absl-py-2.1.0 astunparse-1.6.3 certifi-2024.12.14 charset-normalizer-3.4.1 flatbuffers-24.12.23 gast-0.6.0 google-pasta-0.2.0 grpcio-1.69.0 h5py-3.12.1 idna-3.10 keras-3.8.0 libclang-18.1.1 markdown-3.7 markdown-it-py-3.0.0 mdurl-0.1.2 ml-dtypes-0.4.1 namex-0.0.8 numpy-2.0.2 opt-einsum-3.4.0 optree-0.13.1 protobuf-5.29.3 requests-2.32.3 rich-13.9.4 setuptools-75.8.0 tensorboard-2.18.0 tensorboard-data-server-0.7.2 tensorflow-2.18.0 tensorflow-intel-2.18.0 termcolor-2.5.0 typing-extensions-4.12.2 urllib3-2.3.0 werkzeug-3.1.3 wheel-0.45.1 wrapt-1.17.1\n"
     ]
    }
   ],
   "source": [
    "# tensorflow 설치\n",
    "!pip install tensorflow"
   ]
  },
  {
   "cell_type": "code",
   "execution_count": 2,
   "metadata": {},
   "outputs": [
    {
     "name": "stdout",
     "output_type": "stream",
     "text": [
      "2.18.0\n"
     ]
    }
   ],
   "source": [
    "import tensorflow as tf\n",
    "print(tf.__version__)"
   ]
  },
  {
   "cell_type": "code",
   "execution_count": 1,
   "metadata": {},
   "outputs": [
    {
     "name": "stdout",
     "output_type": "stream",
     "text": [
      "Requirement already satisfied: setuptools in .\\venv\\lib\\site-packages (75.8.0)\n",
      "Note: you may need to restart the kernel to use updated packages.\n"
     ]
    }
   ],
   "source": [
    "%pip install --upgrade setuptools"
   ]
  },
  {
   "cell_type": "code",
   "execution_count": 8,
   "metadata": {},
   "outputs": [
    {
     "data": {
      "text/plain": [
       "<_TensorSliceDataset element_spec=TensorSpec(shape=(3,), dtype=tf.float64, name=None)>"
      ]
     },
     "execution_count": 8,
     "metadata": {},
     "output_type": "execute_result"
    }
   ],
   "source": [
    "# 텐서플로 기초 문법\n",
    "# 1. 데이터 준비\n",
    "\n",
    "# 임의 데이터 셋 사용\n",
    "import tensorflow as tf     # 텐서플로우 라이브러리 호출(tf)\n",
    "import numpy as np          # 넘파이 라이브러리 호출(np)    \n",
    "x = np.random.sample((100, 3)) # (100, 3) 형태의 무작위 난수 생성\n",
    "# dataset = tf.data.Dataset.from_tensor_slices(x)  # 일반 이미지나 배열을 list 형식으로 Dataset 넣어줌\n",
    "dataset"
   ]
  },
  {
   "cell_type": "code",
   "execution_count": null,
   "metadata": {},
   "outputs": [],
   "source": [
    "# 텐서플로에서 제공하는 데이터셋 사용\n",
    "# 1) 텐서플로 데이터셋 패키지 설치\n",
    "%pip install tensorflow-datasets"
   ]
  },
  {
   "cell_type": "code",
   "execution_count": null,
   "metadata": {},
   "outputs": [],
   "source": [
    "# 2) tensorflow_datasets 패키지 호출\n",
    "import tensorflow_datasets as tfds\n",
    "ds = tfds.load('mnist', split='train', shuffle_files=True)"
   ]
  },
  {
   "cell_type": "code",
   "execution_count": 20,
   "metadata": {},
   "outputs": [],
   "source": [
    "# 케라스에서 제공하는 데이터셋 사용\n",
    "import tensorflow as tf\n",
    "data_train, data_test = tf.keras.datasets.mnist.load_data()  # 케라스를 이용한 MNIST 데이터셋 내려받기\n",
    "(images_train, labels_train) = data_train\n",
    "(image_test, labels_test) = data_test"
   ]
  },
  {
   "cell_type": "code",
   "execution_count": 22,
   "metadata": {},
   "outputs": [
    {
     "data": {
      "text/plain": [
       "array([7, 2, 1, ..., 4, 5, 6], dtype=uint8)"
      ]
     },
     "execution_count": 22,
     "metadata": {},
     "output_type": "execute_result"
    }
   ],
   "source": [
    "data_test[1]"
   ]
  },
  {
   "cell_type": "code",
   "execution_count": 24,
   "metadata": {},
   "outputs": [
    {
     "name": "stdout",
     "output_type": "stream",
     "text": [
      "Downloading data from https://storage.googleapis.com/download.tensorflow.org/data/illiad/butler.txt\n",
      "\u001b[1m807992/807992\u001b[0m \u001b[32m━━━━━━━━━━━━━━━━━━━━\u001b[0m\u001b[37m\u001b[0m \u001b[1m0s\u001b[0m 0us/step\n"
     ]
    }
   ],
   "source": [
    "# 인터넷에서 데이터셋을 로컬컴퓨터에 내려 받아 사용\n",
    "# tf.keras.utils.get_file() 함수를 사용하여 인터넷에서 데이터셋을 내려받아 사용\n",
    "import tensorflow as tf\n",
    "url = \"https://storage.googleapis.com/download.tensorflow.org/data/illiad/butler.txt\"\n",
    "text_path = tf.keras.utils.get_file(\"butler.txt\", origin=url)"
   ]
  },
  {
   "cell_type": "code",
   "execution_count": null,
   "metadata": {},
   "outputs": [],
   "source": [
    "# pandas 설치\n",
    "!pip install pandas"
   ]
  },
  {
   "cell_type": "code",
   "execution_count": 28,
   "metadata": {},
   "outputs": [
    {
     "name": "stdout",
     "output_type": "stream",
     "text": [
      "<class 'pandas.core.frame.DataFrame'>\n"
     ]
    }
   ],
   "source": [
    "import pandas as pd\n",
    "\n",
    "# 데이터프레임 생성\n",
    "data = {'Name': ['Alice', 'Bob', 'Charlie'], 'Age': [25, 30, 35], 'Gender': ['F', 'M', 'M']}\n",
    "df = pd.DataFrame(data)\n",
    "\n",
    "# 데이터프레임 출력\n",
    "print(type(df))"
   ]
  },
  {
   "cell_type": "code",
   "execution_count": 1,
   "metadata": {},
   "outputs": [
    {
     "ename": "ImportError",
     "evalue": "cannot import name 'Dense' from 'tensorflow.keras' (d:\\tensorflow\\venv\\Lib\\site-packages\\keras\\_tf_keras\\keras\\__init__.py)",
     "output_type": "error",
     "traceback": [
      "\u001b[1;31m---------------------------------------------------------------------------\u001b[0m",
      "\u001b[1;31mImportError\u001b[0m                               Traceback (most recent call last)",
      "Cell \u001b[1;32mIn[1], line 4\u001b[0m\n\u001b[0;32m      1\u001b[0m \u001b[38;5;66;03m# 모델정의\u001b[39;00m\n\u001b[0;32m      2\u001b[0m \u001b[38;5;66;03m# 1. Sequential API\u001b[39;00m\n\u001b[1;32m----> 4\u001b[0m \u001b[38;5;28;01mfrom\u001b[39;00m\u001b[38;5;250m \u001b[39m\u001b[38;5;21;01mtensorflow\u001b[39;00m\u001b[38;5;21;01m.\u001b[39;00m\u001b[38;5;21;01mkeras\u001b[39;00m\u001b[38;5;250m \u001b[39m\u001b[38;5;28;01mimport\u001b[39;00m models, Dense\n\u001b[0;32m      5\u001b[0m model \u001b[38;5;241m=\u001b[39m tf\u001b[38;5;241m.\u001b[39mkeras\u001b[38;5;241m.\u001b[39mSequential()\n",
      "\u001b[1;31mImportError\u001b[0m: cannot import name 'Dense' from 'tensorflow.keras' (d:\\tensorflow\\venv\\Lib\\site-packages\\keras\\_tf_keras\\keras\\__init__.py)"
     ]
    }
   ],
   "source": []
  },
  {
   "cell_type": "code",
   "execution_count": null,
   "metadata": {},
   "outputs": [],
   "source": []
  },
  {
   "cell_type": "code",
   "execution_count": null,
   "metadata": {},
   "outputs": [],
   "source": []
  },
  {
   "cell_type": "code",
   "execution_count": null,
   "metadata": {},
   "outputs": [],
   "source": []
  },
  {
   "cell_type": "code",
   "execution_count": null,
   "metadata": {},
   "outputs": [],
   "source": []
  },
  {
   "cell_type": "code",
   "execution_count": null,
   "metadata": {},
   "outputs": [],
   "source": []
  },
  {
   "cell_type": "code",
   "execution_count": null,
   "metadata": {},
   "outputs": [],
   "source": []
  },
  {
   "cell_type": "code",
   "execution_count": null,
   "metadata": {},
   "outputs": [],
   "source": []
  },
  {
   "cell_type": "code",
   "execution_count": null,
   "metadata": {},
   "outputs": [],
   "source": []
  }
 ],
 "metadata": {
  "kernelspec": {
   "display_name": "venv",
   "language": "python",
   "name": "python3"
  },
  "language_info": {
   "codemirror_mode": {
    "name": "ipython",
    "version": 3
   },
   "file_extension": ".py",
   "mimetype": "text/x-python",
   "name": "python",
   "nbconvert_exporter": "python",
   "pygments_lexer": "ipython3",
   "version": "3.12.8"
  }
 },
 "nbformat": 4,
 "nbformat_minor": 2
}
